{
  "nbformat": 4,
  "nbformat_minor": 0,
  "metadata": {
    "colab": {
      "name": "01_Perceptron",
      "provenance": [],
      "collapsed_sections": []
    },
    "kernelspec": {
      "name": "python3",
      "display_name": "Python 3"
    },
    "language_info": {
      "name": "python"
    }
  },
  "cells": [
    {
      "cell_type": "code",
      "execution_count": 1,
      "metadata": {
        "colab": {
          "base_uri": "https://localhost:8080/"
        },
        "id": "-QLmicT93RvF",
        "outputId": "c7194ae4-7332-446b-8e71-9ef37c5ce09d"
      },
      "outputs": [
        {
          "output_type": "stream",
          "name": "stdout",
          "text": [
            "Mounted at /content/drive\n"
          ]
        }
      ],
      "source": [
        "from google.colab import drive\n",
        "drive.mount(\"/content/drive\")"
      ]
    },
    {
      "cell_type": "markdown",
      "source": [
        "### Perceptron"
      ],
      "metadata": {
        "id": "quQJc8Fm3iW7"
      }
    },
    {
      "cell_type": "markdown",
      "source": [
        "- AND Gate\n",
        "\n"
      ],
      "metadata": {
        "id": "AoH9bnb53wQP"
      }
    },
    {
      "cell_type": "code",
      "source": [
        "import numpy as np\n",
        "weight = np.array([1,1])   # 가중치\n",
        "bias = -1  # 바이아스\n",
        "for x1, x2 in [(0,0),(0,1),(1,0),(1,1)]:\n",
        "    sum = weight[0] * x1 + weight[1] * x2 + bias # 가중합\n",
        "    print(sum)"
      ],
      "metadata": {
        "colab": {
          "base_uri": "https://localhost:8080/"
        },
        "id": "7-wAGg1w3hq7",
        "outputId": "7804a2f6-13fd-48fc-a822-909c8a89fcce"
      },
      "execution_count": 3,
      "outputs": [
        {
          "output_type": "stream",
          "name": "stdout",
          "text": [
            "-1\n",
            "0\n",
            "0\n",
            "1\n"
          ]
        }
      ]
    },
    {
      "cell_type": "code",
      "source": [
        "# 가장 단순한 형태의 Perceptron\n",
        "# Step 활성화 함수 \n",
        "for x1, x2 in [(0,0),(0,1),(1,0),(1,1)]:\n",
        "    sum = weight[0] * x1 + weight[1] * x2 + bias\n",
        "    print(0 if sum <= 0 else 1)"
      ],
      "metadata": {
        "colab": {
          "base_uri": "https://localhost:8080/"
        },
        "id": "CJeM70kG3hwB",
        "outputId": "88385d79-ef9f-430c-cfa9-989aef8ac720"
      },
      "execution_count": 4,
      "outputs": [
        {
          "output_type": "stream",
          "name": "stdout",
          "text": [
            "0\n",
            "0\n",
            "0\n",
            "1\n"
          ]
        }
      ]
    },
    {
      "cell_type": "code",
      "source": [
        "for x1, x2 in [(0,0),(0,1),(1,0),(1,1)]:\n",
        "    x = np.array([x1, x2])\n",
        "    sum = np.dot(weight, x) + bias\n",
        "    print(0 if sum <= 0 else 1)"
      ],
      "metadata": {
        "colab": {
          "base_uri": "https://localhost:8080/"
        },
        "id": "cm9glOTd4ZTG",
        "outputId": "e73cd65d-184b-4e61-d190-9d5b0467c82d"
      },
      "execution_count": 6,
      "outputs": [
        {
          "output_type": "stream",
          "name": "stdout",
          "text": [
            "0\n",
            "0\n",
            "0\n",
            "1\n"
          ]
        }
      ]
    },
    {
      "cell_type": "code",
      "source": [
        "def AND_gate(x1, x2):\n",
        "    weight = np.array([1,1])\n",
        "    bias = -1\n",
        "    sum = np.dot(weight, np.array([x1,x2]))+ bias\n",
        "    return 0 if sum <= 0 else 1"
      ],
      "metadata": {
        "id": "DbNXF_GY40dm"
      },
      "execution_count": 11,
      "outputs": []
    },
    {
      "cell_type": "code",
      "source": [
        "for x1, x2 in [(0,0),(0,1),(1,0),(1,1)]:\n",
        "    print(AND_gate(x1,x2))"
      ],
      "metadata": {
        "colab": {
          "base_uri": "https://localhost:8080/"
        },
        "id": "LNhYFJD_42EP",
        "outputId": "a42e87ce-1747-457c-febd-7e7381b7ee53"
      },
      "execution_count": 12,
      "outputs": [
        {
          "output_type": "stream",
          "name": "stdout",
          "text": [
            "0\n",
            "0\n",
            "0\n",
            "1\n"
          ]
        }
      ]
    },
    {
      "cell_type": "code",
      "source": [
        "def OR_gate(x1, x2):\n",
        "    weight = np.array([2,2])\n",
        "    bias = -1\n",
        "    sum = np.dot(weight, np.array([x1,x2])) + bias\n",
        "    return 0 if sum <= 0 else 1"
      ],
      "metadata": {
        "id": "nEAzUtQ942F5"
      },
      "execution_count": 15,
      "outputs": []
    },
    {
      "cell_type": "code",
      "source": [
        "for x1, x2 in [(0,0),(0,1),(1,0),(1,1)]:\n",
        "    print(OR_gate(x1,x2))"
      ],
      "metadata": {
        "colab": {
          "base_uri": "https://localhost:8080/"
        },
        "id": "0iqJgRVl42IW",
        "outputId": "8ee37d83-44b0-4d12-c61f-47e25c4e7831"
      },
      "execution_count": 16,
      "outputs": [
        {
          "output_type": "stream",
          "name": "stdout",
          "text": [
            "0\n",
            "1\n",
            "1\n",
            "1\n"
          ]
        }
      ]
    },
    {
      "cell_type": "markdown",
      "source": [
        "- NAND Gate"
      ],
      "metadata": {
        "id": "uZeyorem5qU4"
      }
    },
    {
      "cell_type": "code",
      "source": [
        "def NAND_gate(x1, x2):\n",
        "    weight = np.array([-2,-2])\n",
        "    bias = 3\n",
        "    sum = np.dot(weight, np.array([x1,x2])) + bias\n",
        "    return 0 if sum <= 0 else 1"
      ],
      "metadata": {
        "id": "nr-eQ3Vj42N9"
      },
      "execution_count": 17,
      "outputs": []
    },
    {
      "cell_type": "code",
      "source": [
        "for x1, x2 in [(0,0),(0,1),(1,0),(1,1)]:\n",
        "    print(NAND_gate(x1,x2))"
      ],
      "metadata": {
        "colab": {
          "base_uri": "https://localhost:8080/"
        },
        "id": "ROiujuO042QF",
        "outputId": "0f58473d-ad7b-4b22-fa62-9fbf995a5b64"
      },
      "execution_count": 18,
      "outputs": [
        {
          "output_type": "stream",
          "name": "stdout",
          "text": [
            "1\n",
            "1\n",
            "1\n",
            "0\n"
          ]
        }
      ]
    },
    {
      "cell_type": "markdown",
      "source": [
        "- step function 에선 미분을 사용할 수 없다"
      ],
      "metadata": {
        "id": "KA2ObQqp7a1s"
      }
    },
    {
      "cell_type": "code",
      "source": [
        ""
      ],
      "metadata": {
        "id": "CMhMPvf_5-bT"
      },
      "execution_count": null,
      "outputs": []
    }
  ]
}