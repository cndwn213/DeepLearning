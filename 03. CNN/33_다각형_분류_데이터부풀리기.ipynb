{
  "nbformat": 4,
  "nbformat_minor": 0,
  "metadata": {
    "colab": {
      "name": "33_다각형 분류_데이터부풀리기.ipynb",
      "provenance": [],
      "collapsed_sections": []
    },
    "kernelspec": {
      "name": "python3",
      "display_name": "Python 3"
    },
    "language_info": {
      "name": "python"
    }
  },
  "cells": [
    {
      "cell_type": "markdown",
      "source": [
        "# 원, 사각형, 삼각형 구분하기\n",
        "- 어려운 테스트 문제를 데이터 부풀리기를 이용하여 데이터를 많이 생성\n",
        "- 기존 CNN 모델 사용"
      ],
      "metadata": {
        "id": "wTj9eOuci8aA"
      }
    },
    {
      "cell_type": "code",
      "execution_count": null,
      "metadata": {
        "id": "PCJNPN6hh4To"
      },
      "outputs": [],
      "source": [
        "from google.colab import files\n",
        "up = files.upload()"
      ]
    },
    {
      "cell_type": "code",
      "source": [
        "!unzip hard_handwriting_shape.zip -d hard_handwriting > /dev/null"
      ],
      "metadata": {
        "id": "9OwB0LhyjZL-"
      },
      "execution_count": 1,
      "outputs": []
    },
    {
      "cell_type": "code",
      "source": [
        "from PIL import Image\n",
        "from glob import glob\n",
        "import matplotlib.pyplot as plt"
      ],
      "metadata": {
        "id": "2wrxx_iDjgou"
      },
      "execution_count": 1,
      "outputs": []
    },
    {
      "cell_type": "markdown",
      "source": [
        "- 데이터셋 생성하기"
      ],
      "metadata": {
        "id": "MmdNErJSjrLV"
      }
    },
    {
      "cell_type": "code",
      "source": [
        "from tensorflow.keras.preprocessing.image import ImageDataGenerator\n",
        "\n",
        "train_datagen = ImageDataGenerator(\n",
        "    rescale = 1/255.,\n",
        "    rotation_range = 15,\n",
        "    width_shift_range = 0.1,\n",
        "    shear_range = 0.5,\n",
        "    height_shift_range = 0.1,\n",
        "    zoom_range = [0.8, 1.5],\n",
        "    horizontal_flip = True,\n",
        "    vertical_flip = True,\n",
        "    fill_mode = \"nearest\"\n",
        ")\n"
      ],
      "metadata": {
        "id": "0DY33MWvjpBl"
      },
      "execution_count": 2,
      "outputs": []
    },
    {
      "cell_type": "code",
      "source": [
        "from tensorflow.keras.preprocessing.image import img_to_array, load_img\n",
        "\n",
        "img = load_img(\"/content/hard_handwriting/train/triangle/triangle001.png\")\n",
        "x = img_to_array(img)\n",
        "x.shape"
      ],
      "metadata": {
        "colab": {
          "base_uri": "https://localhost:8080/"
        },
        "id": "meTbNo2vk-ai",
        "outputId": "a652dbc6-3624-425a-fc05-2c44ac5d1b8b"
      },
      "execution_count": 3,
      "outputs": [
        {
          "output_type": "execute_result",
          "data": {
            "text/plain": [
              "(24, 24, 3)"
            ]
          },
          "metadata": {},
          "execution_count": 3
        }
      ]
    },
    {
      "cell_type": "code",
      "source": [
        "# x.reshape(1,24,24,3)\n",
        "x = x.reshape((1,) + x.shape)\n",
        "x.shape"
      ],
      "metadata": {
        "colab": {
          "base_uri": "https://localhost:8080/"
        },
        "id": "wBL5p_Xqlwu1",
        "outputId": "51b53df3-45fb-410d-e713-6f47d66532f9"
      },
      "execution_count": 4,
      "outputs": [
        {
          "output_type": "execute_result",
          "data": {
            "text/plain": [
              "(1, 24, 24, 3)"
            ]
          },
          "metadata": {},
          "execution_count": 4
        }
      ]
    },
    {
      "cell_type": "markdown",
      "source": [
        "- 데이터 부풀리기를 통하여 만들어지는 새로운 도형 이미지"
      ],
      "metadata": {
        "id": "NKoQL2LQmRuo"
      }
    },
    {
      "cell_type": "code",
      "source": [
        "import os\n",
        "if not os.path.exists(\"preview\") :\n",
        "    os.mkdir(\"preview\")"
      ],
      "metadata": {
        "id": "IoG1JJral0Iw"
      },
      "execution_count": 5,
      "outputs": []
    },
    {
      "cell_type": "code",
      "source": [
        "train_datagen.flow(x, batch_size = 1, save_to_dir = \"preview\", save_prefix = \"pre\")"
      ],
      "metadata": {
        "colab": {
          "base_uri": "https://localhost:8080/"
        },
        "id": "zAtsFuzrmgve",
        "outputId": "a74045c5-9fe8-4c14-9ccb-e0da8cd2f3e3"
      },
      "execution_count": 6,
      "outputs": [
        {
          "output_type": "execute_result",
          "data": {
            "text/plain": [
              "<keras.preprocessing.image.NumpyArrayIterator at 0x7f1bfea39790>"
            ]
          },
          "metadata": {},
          "execution_count": 6
        }
      ]
    },
    {
      "cell_type": "code",
      "source": [
        "!ls -l preview"
      ],
      "metadata": {
        "colab": {
          "base_uri": "https://localhost:8080/"
        },
        "id": "ucIPf1hpnKVV",
        "outputId": "79c4bc23-579e-4dfc-9c91-e2391cd2e7e0"
      },
      "execution_count": 7,
      "outputs": [
        {
          "output_type": "stream",
          "name": "stdout",
          "text": [
            "total 0\n"
          ]
        }
      ]
    },
    {
      "cell_type": "code",
      "source": [
        "count = 0\n",
        "for _ in train_datagen.flow(x, batch_size = 1, save_to_dir = \"preview\", save_prefix = \"pre\"):\n",
        "    count += 1\n",
        "    if count >= 30:\n",
        "        break"
      ],
      "metadata": {
        "id": "R1Qxil6QnNQB"
      },
      "execution_count": 8,
      "outputs": []
    },
    {
      "cell_type": "code",
      "source": [
        "plt.figure(figsize = (10,3))\n",
        "for i, fname in enumerate(glob(\"preview/*.png\")):\n",
        "    img = Image.open(fname)\n",
        "    plt.subplot(3, 10, i+1)\n",
        "    plt.imshow(img), plt.axis(\"off\"), plt.xticks([]), plt.yticks([])\n",
        "plt.show()"
      ],
      "metadata": {
        "colab": {
          "base_uri": "https://localhost:8080/",
          "height": 193
        },
        "id": "aMAdlDCrvX_W",
        "outputId": "c77bb1bf-c743-4e1a-bb9d-bc922f427f51"
      },
      "execution_count": 9,
      "outputs": [
        {
          "output_type": "display_data",
          "data": {
            "text/plain": [
              "<Figure size 720x216 with 30 Axes>"
            ],
            "image/png": "[encoded data removed]"
          },
          "metadata": {}
        }
      ]
    },
    {
      "cell_type": "markdown",
      "source": [
        "- data generator\n"
      ],
      "metadata": {
        "id": "R85t3O2UrG7a"
      }
    },
    {
      "cell_type": "code",
      "source": [
        "train_datagenerator = train_datagen.flow_from_directory(\n",
        "    \"hard_handwriting/train\", target_size = (24,24),\n",
        "    batch_size = 3, class_mode = \"categorical\"\n",
        ")"
      ],
      "metadata": {
        "colab": {
          "base_uri": "https://localhost:8080/"
        },
        "id": "SQ547Uu-qEyb",
        "outputId": "c5510395-8c1b-45e4-d9b4-bc89921e282f"
      },
      "execution_count": 10,
      "outputs": [
        {
          "output_type": "stream",
          "name": "stdout",
          "text": [
            "Found 45 images belonging to 3 classes.\n"
          ]
        }
      ]
    },
    {
      "cell_type": "code",
      "source": [
        "test_datagen = ImageDataGenerator(rescale = 1/255.)\n",
        "test_datagenerator = test_datagen.flow_from_directory(\n",
        "    \"hard_handwriting/test\", target_size = (24,24),\n",
        "    batch_size = 3, class_mode = \"categorical\"\n",
        ")"
      ],
      "metadata": {
        "colab": {
          "base_uri": "https://localhost:8080/"
        },
        "id": "FCVEnFhcrVya",
        "outputId": "31c22766-281e-4422-ef75-3d062726be7b"
      },
      "execution_count": 11,
      "outputs": [
        {
          "output_type": "stream",
          "name": "stdout",
          "text": [
            "Found 15 images belonging to 3 classes.\n"
          ]
        }
      ]
    },
    {
      "cell_type": "markdown",
      "source": [
        "- 모델 정의/설정/학습/평가"
      ],
      "metadata": {
        "id": "xtYI2oRFrs5m"
      }
    },
    {
      "cell_type": "code",
      "source": [
        "from tensorflow.keras.models import Sequential, load_model\n",
        "from tensorflow.keras.layers import Dense, Conv2D, MaxPooling2D, Flatten"
      ],
      "metadata": {
        "id": "wL21QNgYrq6Q"
      },
      "execution_count": 12,
      "outputs": []
    },
    {
      "cell_type": "code",
      "source": [
        "model = Sequential([\n",
        "        Conv2D(32, (3,3), input_shape=(24,24,3), activation = \"relu\"),\n",
        "        Conv2D(32, (3,3), activation = \"relu\"),\n",
        "        MaxPooling2D(),\n",
        "        Flatten(),\n",
        "        Dense(128, activation = \"relu\"),\n",
        "        Dense(3, activation = \"softmax\")\n",
        "])\n",
        "model.summary()"
      ],
      "metadata": {
        "colab": {
          "base_uri": "https://localhost:8080/"
        },
        "id": "zgAVhX5ur2zT",
        "outputId": "0014a81a-5b82-4cf9-a268-d5770d0e44a2"
      },
      "execution_count": 13,
      "outputs": [
        {
          "output_type": "stream",
          "name": "stdout",
          "text": [
            "Model: \"sequential\"\n",
            "_________________________________________________________________\n",
            " Layer (type)                Output Shape              Param #   \n",
            "=================================================================\n",
            " conv2d (Conv2D)             (None, 22, 22, 32)        896       \n",
            "                                                                 \n",
            " conv2d_1 (Conv2D)           (None, 20, 20, 32)        9248      \n",
            "                                                                 \n",
            " max_pooling2d (MaxPooling2D  (None, 10, 10, 32)       0         \n",
            " )                                                               \n",
            "                                                                 \n",
            " flatten (Flatten)           (None, 3200)              0         \n",
            "                                                                 \n",
            " dense (Dense)               (None, 128)               409728    \n",
            "                                                                 \n",
            " dense_1 (Dense)             (None, 3)                 387       \n",
            "                                                                 \n",
            "=================================================================\n",
            "Total params: 420,259\n",
            "Trainable params: 420,259\n",
            "Non-trainable params: 0\n",
            "_________________________________________________________________\n"
          ]
        }
      ]
    },
    {
      "cell_type": "code",
      "source": [
        "model.compile(optimizer = \"adam\", loss= \"categorical_crossentropy\", metrics = [\"accuracy\"])"
      ],
      "metadata": {
        "id": "n5A68cgUr5s-"
      },
      "execution_count": 14,
      "outputs": []
    },
    {
      "cell_type": "code",
      "source": [
        "model.fit(\n",
        "    train_datagenerator, steps_per_epoch =15, epochs = 300,\n",
        "    validation_data = test_datagenerator, validation_steps = 5\n",
        ")"
      ],
      "metadata": {
        "colab": {
          "base_uri": "https://localhost:8080/"
        },
        "id": "ME-5LcRir7s7",
        "outputId": "ed98ddc4-d1a3-4323-f070-efecc77a25a5"
      },
      "execution_count": 15,
      "outputs": [
        {
          "output_type": "stream",
          "name": "stdout",
          "text": [
            "Epoch 1/300\n",
            "15/15 [==============================] - 1s 30ms/step - loss: 1.2861 - accuracy: 0.3556 - val_loss: 1.1155 - val_accuracy: 0.3333\n",
            "Epoch 2/300\n",
            "15/15 [==============================] - 0s 21ms/step - loss: 1.0709 - accuracy: 0.3333 - val_loss: 1.1173 - val_accuracy: 0.2667\n",
            "Epoch 3/300\n",
            "15/15 [==============================] - 0s 18ms/step - loss: 0.9525 - accuracy: 0.6444 - val_loss: 1.3173 - val_accuracy: 0.2667\n",
            "Epoch 4/300\n",
            "15/15 [==============================] - 0s 17ms/step - loss: 0.7319 - accuracy: 0.6444 - val_loss: 1.7399 - val_accuracy: 0.2667\n",
            "Epoch 5/300\n",
            "15/15 [==============================] - 0s 17ms/step - loss: 0.8491 - accuracy: 0.5333 - val_loss: 1.5856 - val_accuracy: 0.2667\n",
            "Epoch 6/300\n",
            "15/15 [==============================] - 0s 17ms/step - loss: 0.5230 - accuracy: 0.8444 - val_loss: 2.2133 - val_accuracy: 0.2667\n",
            "Epoch 7/300\n",
            "15/15 [==============================] - 0s 17ms/step - loss: 0.5408 - accuracy: 0.8222 - val_loss: 1.6547 - val_accuracy: 0.4000\n",
            "Epoch 8/300\n",
            "15/15 [==============================] - 0s 18ms/step - loss: 0.4695 - accuracy: 0.8444 - val_loss: 3.1941 - val_accuracy: 0.2667\n",
            "Epoch 9/300\n",
            "15/15 [==============================] - 0s 19ms/step - loss: 0.3834 - accuracy: 0.8667 - val_loss: 1.9566 - val_accuracy: 0.4000\n",
            "Epoch 10/300\n",
            "15/15 [==============================] - 0s 17ms/step - loss: 0.2439 - accuracy: 0.9333 - val_loss: 2.0884 - val_accuracy: 0.4000\n",
            "Epoch 11/300\n",
            "15/15 [==============================] - 0s 17ms/step - loss: 0.3013 - accuracy: 0.8889 - val_loss: 2.4287 - val_accuracy: 0.3333\n",
            "Epoch 12/300\n",
            "15/15 [==============================] - 0s 21ms/step - loss: 0.2738 - accuracy: 0.9111 - val_loss: 3.0972 - val_accuracy: 0.3333\n",
            "Epoch 13/300\n",
            "15/15 [==============================] - 0s 18ms/step - loss: 0.2317 - accuracy: 0.9333 - val_loss: 2.0742 - val_accuracy: 0.4667\n",
            "Epoch 14/300\n",
            "15/15 [==============================] - 0s 17ms/step - loss: 0.2657 - accuracy: 0.8889 - val_loss: 2.7987 - val_accuracy: 0.4000\n",
            "Epoch 15/300\n",
            "15/15 [==============================] - 0s 17ms/step - loss: 0.1235 - accuracy: 0.9556 - val_loss: 2.8936 - val_accuracy: 0.4000\n",
            "Epoch 16/300\n",
            "15/15 [==============================] - 0s 19ms/step - loss: 0.1329 - accuracy: 0.9556 - val_loss: 2.2715 - val_accuracy: 0.5333\n",
            "Epoch 17/300\n",
            "15/15 [==============================] - 0s 18ms/step - loss: 0.0576 - accuracy: 1.0000 - val_loss: 2.8610 - val_accuracy: 0.4667\n",
            "Epoch 18/300\n",
            "15/15 [==============================] - 0s 18ms/step - loss: 0.1532 - accuracy: 0.9556 - val_loss: 4.0783 - val_accuracy: 0.4667\n",
            "Epoch 19/300\n",
            "15/15 [==============================] - 0s 19ms/step - loss: 0.1616 - accuracy: 0.9556 - val_loss: 2.1077 - val_accuracy: 0.5333\n",
            "Epoch 20/300\n",
            "15/15 [==============================] - 0s 20ms/step - loss: 0.1631 - accuracy: 0.9333 - val_loss: 3.2063 - val_accuracy: 0.4000\n",
            "Epoch 21/300\n",
            "15/15 [==============================] - 0s 19ms/step - loss: 0.1741 - accuracy: 0.9333 - val_loss: 3.4289 - val_accuracy: 0.4000\n",
            "Epoch 22/300\n",
            "15/15 [==============================] - 0s 17ms/step - loss: 0.1262 - accuracy: 0.9333 - val_loss: 1.9776 - val_accuracy: 0.5333\n",
            "Epoch 23/300\n",
            "15/15 [==============================] - 0s 17ms/step - loss: 0.2043 - accuracy: 0.9556 - val_loss: 2.4484 - val_accuracy: 0.5333\n",
            "Epoch 24/300\n",
            "15/15 [==============================] - 0s 18ms/step - loss: 0.0966 - accuracy: 0.9778 - val_loss: 2.6637 - val_accuracy: 0.5333\n",
            "Epoch 25/300\n",
            "15/15 [==============================] - 0s 17ms/step - loss: 0.0586 - accuracy: 0.9778 - val_loss: 2.4195 - val_accuracy: 0.5333\n",
            "Epoch 26/300\n",
            "15/15 [==============================] - 0s 18ms/step - loss: 0.1310 - accuracy: 0.9778 - val_loss: 3.5225 - val_accuracy: 0.4667\n",
            "Epoch 27/300\n",
            "15/15 [==============================] - 0s 20ms/step - loss: 0.0099 - accuracy: 1.0000 - val_loss: 3.5780 - val_accuracy: 0.4667\n",
            "Epoch 28/300\n",
            "15/15 [==============================] - 0s 17ms/step - loss: 0.0146 - accuracy: 1.0000 - val_loss: 3.6274 - val_accuracy: 0.4667\n",
            "Epoch 29/300\n",
            "15/15 [==============================] - 0s 17ms/step - loss: 0.0894 - accuracy: 0.9778 - val_loss: 2.6255 - val_accuracy: 0.5333\n",
            "Epoch 30/300\n",
            "15/15 [==============================] - 0s 18ms/step - loss: 0.0394 - accuracy: 1.0000 - val_loss: 2.4491 - val_accuracy: 0.5333\n",
            "Epoch 31/300\n",
            "15/15 [==============================] - 0s 18ms/step - loss: 0.0648 - accuracy: 0.9778 - val_loss: 3.2332 - val_accuracy: 0.4667\n",
            "Epoch 32/300\n",
            "15/15 [==============================] - 0s 19ms/step - loss: 0.0181 - accuracy: 1.0000 - val_loss: 4.3132 - val_accuracy: 0.4667\n",
            "Epoch 33/300\n",
            "15/15 [==============================] - 0s 18ms/step - loss: 0.0067 - accuracy: 1.0000 - val_loss: 4.0403 - val_accuracy: 0.4667\n",
            "Epoch 34/300\n",
            "15/15 [==============================] - 0s 18ms/step - loss: 0.0348 - accuracy: 0.9778 - val_loss: 2.5151 - val_accuracy: 0.6000\n",
            "Epoch 35/300\n",
            "15/15 [==============================] - 0s 17ms/step - loss: 0.1128 - accuracy: 0.9778 - val_loss: 2.6341 - val_accuracy: 0.5333\n",
            "Epoch 36/300\n",
            "15/15 [==============================] - 0s 18ms/step - loss: 0.0338 - accuracy: 1.0000 - val_loss: 3.3072 - val_accuracy: 0.5333\n",
            "Epoch 37/300\n",
            "15/15 [==============================] - 0s 17ms/step - loss: 0.2264 - accuracy: 0.9778 - val_loss: 3.1960 - val_accuracy: 0.4667\n",
            "Epoch 38/300\n",
            "15/15 [==============================] - 0s 18ms/step - loss: 0.0195 - accuracy: 1.0000 - val_loss: 2.1634 - val_accuracy: 0.6000\n",
            "Epoch 39/300\n",
            "15/15 [==============================] - 0s 17ms/step - loss: 0.0463 - accuracy: 1.0000 - val_loss: 2.2725 - val_accuracy: 0.6000\n",
            "Epoch 40/300\n",
            "15/15 [==============================] - 0s 17ms/step - loss: 0.0107 - accuracy: 1.0000 - val_loss: 3.3593 - val_accuracy: 0.4667\n",
            "Epoch 41/300\n",
            "15/15 [==============================] - 0s 18ms/step - loss: 0.0373 - accuracy: 0.9778 - val_loss: 3.7655 - val_accuracy: 0.4667\n",
            "Epoch 42/300\n",
            "15/15 [==============================] - 0s 17ms/step - loss: 0.0714 - accuracy: 0.9778 - val_loss: 1.9292 - val_accuracy: 0.6667\n",
            "Epoch 43/300\n",
            "15/15 [==============================] - 0s 18ms/step - loss: 0.0401 - accuracy: 0.9778 - val_loss: 2.0936 - val_accuracy: 0.6667\n",
            "Epoch 44/300\n",
            "15/15 [==============================] - 0s 19ms/step - loss: 0.0166 - accuracy: 1.0000 - val_loss: 2.9118 - val_accuracy: 0.6000\n",
            "Epoch 45/300\n",
            "15/15 [==============================] - 0s 17ms/step - loss: 0.0406 - accuracy: 0.9778 - val_loss: 3.7054 - val_accuracy: 0.5333\n",
            "Epoch 46/300\n",
            "15/15 [==============================] - 0s 17ms/step - loss: 0.0577 - accuracy: 0.9778 - val_loss: 3.6876 - val_accuracy: 0.5333\n",
            "Epoch 47/300\n",
            "15/15 [==============================] - 0s 19ms/step - loss: 0.3666 - accuracy: 0.8889 - val_loss: 4.1184 - val_accuracy: 0.5333\n",
            "Epoch 48/300\n",
            "15/15 [==============================] - 0s 17ms/step - loss: 0.0622 - accuracy: 1.0000 - val_loss: 3.7911 - val_accuracy: 0.4667\n",
            "Epoch 49/300\n",
            "15/15 [==============================] - 0s 16ms/step - loss: 0.0143 - accuracy: 1.0000 - val_loss: 2.8280 - val_accuracy: 0.5333\n",
            "Epoch 50/300\n",
            "15/15 [==============================] - 0s 17ms/step - loss: 0.0281 - accuracy: 1.0000 - val_loss: 2.7510 - val_accuracy: 0.5333\n",
            "Epoch 51/300\n",
            "15/15 [==============================] - 0s 17ms/step - loss: 0.0169 - accuracy: 1.0000 - val_loss: 2.3363 - val_accuracy: 0.6000\n",
            "Epoch 52/300\n",
            "15/15 [==============================] - 0s 20ms/step - loss: 0.0217 - accuracy: 1.0000 - val_loss: 2.4232 - val_accuracy: 0.6000\n",
            "Epoch 53/300\n",
            "15/15 [==============================] - 0s 19ms/step - loss: 0.0085 - accuracy: 1.0000 - val_loss: 3.7991 - val_accuracy: 0.5333\n",
            "Epoch 54/300\n",
            "15/15 [==============================] - 0s 18ms/step - loss: 0.0085 - accuracy: 1.0000 - val_loss: 4.2280 - val_accuracy: 0.5333\n",
            "Epoch 55/300\n",
            "15/15 [==============================] - 0s 17ms/step - loss: 0.0205 - accuracy: 1.0000 - val_loss: 2.1443 - val_accuracy: 0.7333\n",
            "Epoch 56/300\n",
            "15/15 [==============================] - 0s 18ms/step - loss: 0.0328 - accuracy: 0.9778 - val_loss: 2.5560 - val_accuracy: 0.6667\n",
            "Epoch 57/300\n",
            "15/15 [==============================] - 0s 18ms/step - loss: 0.0223 - accuracy: 1.0000 - val_loss: 3.0180 - val_accuracy: 0.6000\n",
            "Epoch 58/300\n",
            "15/15 [==============================] - 0s 20ms/step - loss: 0.0440 - accuracy: 0.9778 - val_loss: 2.9663 - val_accuracy: 0.6000\n",
            "Epoch 59/300\n",
            "15/15 [==============================] - 0s 17ms/step - loss: 0.1769 - accuracy: 0.9556 - val_loss: 2.5140 - val_accuracy: 0.6000\n",
            "Epoch 60/300\n",
            "15/15 [==============================] - 0s 19ms/step - loss: 0.1227 - accuracy: 0.9778 - val_loss: 1.4291 - val_accuracy: 0.6000\n",
            "Epoch 61/300\n",
            "15/15 [==============================] - 0s 18ms/step - loss: 0.0201 - accuracy: 1.0000 - val_loss: 1.2261 - val_accuracy: 0.7333\n",
            "Epoch 62/300\n",
            "15/15 [==============================] - 0s 18ms/step - loss: 0.0041 - accuracy: 1.0000 - val_loss: 1.4321 - val_accuracy: 0.6667\n",
            "Epoch 63/300\n",
            "15/15 [==============================] - 0s 18ms/step - loss: 0.0071 - accuracy: 1.0000 - val_loss: 1.6308 - val_accuracy: 0.6667\n",
            "Epoch 64/300\n",
            "15/15 [==============================] - 0s 18ms/step - loss: 0.0088 - accuracy: 1.0000 - val_loss: 1.7967 - val_accuracy: 0.6667\n",
            "Epoch 65/300\n",
            "15/15 [==============================] - 0s 20ms/step - loss: 0.0011 - accuracy: 1.0000 - val_loss: 1.8929 - val_accuracy: 0.6667\n",
            "Epoch 66/300\n",
            "15/15 [==============================] - 0s 19ms/step - loss: 0.0295 - accuracy: 0.9778 - val_loss: 1.7176 - val_accuracy: 0.6667\n",
            "Epoch 67/300\n",
            "15/15 [==============================] - 0s 17ms/step - loss: 0.0010 - accuracy: 1.0000 - val_loss: 1.4546 - val_accuracy: 0.8000\n",
            "Epoch 68/300\n",
            "15/15 [==============================] - 0s 19ms/step - loss: 0.0424 - accuracy: 0.9778 - val_loss: 1.9205 - val_accuracy: 0.7333\n",
            "Epoch 69/300\n",
            "15/15 [==============================] - 0s 19ms/step - loss: 0.0738 - accuracy: 0.9556 - val_loss: 1.8533 - val_accuracy: 0.6667\n",
            "Epoch 70/300\n",
            "15/15 [==============================] - 0s 20ms/step - loss: 0.1080 - accuracy: 0.9111 - val_loss: 5.2292 - val_accuracy: 0.4667\n",
            "Epoch 71/300\n",
            "15/15 [==============================] - 0s 17ms/step - loss: 0.1839 - accuracy: 0.9556 - val_loss: 3.5482 - val_accuracy: 0.5333\n",
            "Epoch 72/300\n",
            "15/15 [==============================] - 0s 21ms/step - loss: 0.0246 - accuracy: 1.0000 - val_loss: 3.0268 - val_accuracy: 0.5333\n",
            "Epoch 73/300\n",
            "15/15 [==============================] - 0s 18ms/step - loss: 0.1526 - accuracy: 0.9778 - val_loss: 2.4311 - val_accuracy: 0.6667\n",
            "Epoch 74/300\n",
            "15/15 [==============================] - 0s 19ms/step - loss: 0.1718 - accuracy: 0.9111 - val_loss: 1.4096 - val_accuracy: 0.6667\n",
            "Epoch 75/300\n",
            "15/15 [==============================] - 0s 18ms/step - loss: 0.0374 - accuracy: 0.9778 - val_loss: 2.9335 - val_accuracy: 0.5333\n",
            "Epoch 76/300\n",
            "15/15 [==============================] - 0s 18ms/step - loss: 0.0985 - accuracy: 0.9778 - val_loss: 3.7418 - val_accuracy: 0.5333\n",
            "Epoch 77/300\n",
            "15/15 [==============================] - 0s 18ms/step - loss: 0.0140 - accuracy: 1.0000 - val_loss: 3.9627 - val_accuracy: 0.5333\n",
            "Epoch 78/300\n",
            "15/15 [==============================] - 0s 18ms/step - loss: 0.1194 - accuracy: 0.9556 - val_loss: 4.7981 - val_accuracy: 0.4667\n",
            "Epoch 79/300\n",
            "15/15 [==============================] - 0s 17ms/step - loss: 0.1062 - accuracy: 0.9333 - val_loss: 3.8163 - val_accuracy: 0.4667\n",
            "Epoch 80/300\n",
            "15/15 [==============================] - 0s 18ms/step - loss: 0.0770 - accuracy: 0.9556 - val_loss: 2.3581 - val_accuracy: 0.6000\n",
            "Epoch 81/300\n",
            "15/15 [==============================] - 0s 18ms/step - loss: 0.0468 - accuracy: 0.9778 - val_loss: 2.1758 - val_accuracy: 0.6000\n",
            "Epoch 82/300\n",
            "15/15 [==============================] - 0s 20ms/step - loss: 0.0177 - accuracy: 1.0000 - val_loss: 2.3502 - val_accuracy: 0.6000\n",
            "Epoch 83/300\n",
            "15/15 [==============================] - 0s 18ms/step - loss: 0.0429 - accuracy: 0.9556 - val_loss: 2.4602 - val_accuracy: 0.6000\n",
            "Epoch 84/300\n",
            "15/15 [==============================] - 0s 22ms/step - loss: 0.0548 - accuracy: 0.9778 - val_loss: 2.4626 - val_accuracy: 0.6000\n",
            "Epoch 85/300\n",
            "15/15 [==============================] - 0s 19ms/step - loss: 0.0128 - accuracy: 1.0000 - val_loss: 2.7572 - val_accuracy: 0.5333\n",
            "Epoch 86/300\n",
            "15/15 [==============================] - 0s 18ms/step - loss: 0.0359 - accuracy: 0.9778 - val_loss: 2.8913 - val_accuracy: 0.5333\n",
            "Epoch 87/300\n",
            "15/15 [==============================] - 0s 18ms/step - loss: 0.0020 - accuracy: 1.0000 - val_loss: 2.9470 - val_accuracy: 0.5333\n",
            "Epoch 88/300\n",
            "15/15 [==============================] - 0s 17ms/step - loss: 0.0093 - accuracy: 1.0000 - val_loss: 2.8687 - val_accuracy: 0.5333\n",
            "Epoch 89/300\n",
            "15/15 [==============================] - 0s 18ms/step - loss: 0.0201 - accuracy: 1.0000 - val_loss: 3.0929 - val_accuracy: 0.5333\n",
            "Epoch 90/300\n",
            "15/15 [==============================] - 0s 20ms/step - loss: 0.0302 - accuracy: 0.9778 - val_loss: 2.7447 - val_accuracy: 0.6000\n",
            "Epoch 91/300\n",
            "15/15 [==============================] - 0s 18ms/step - loss: 0.0052 - accuracy: 1.0000 - val_loss: 2.5779 - val_accuracy: 0.6667\n",
            "Epoch 92/300\n",
            "15/15 [==============================] - 0s 17ms/step - loss: 0.0242 - accuracy: 1.0000 - val_loss: 2.7941 - val_accuracy: 0.6667\n",
            "Epoch 93/300\n",
            "15/15 [==============================] - 0s 18ms/step - loss: 0.0106 - accuracy: 1.0000 - val_loss: 2.4573 - val_accuracy: 0.6667\n",
            "Epoch 94/300\n",
            "15/15 [==============================] - 0s 17ms/step - loss: 0.0144 - accuracy: 1.0000 - val_loss: 2.7114 - val_accuracy: 0.6667\n",
            "Epoch 95/300\n",
            "15/15 [==============================] - 0s 17ms/step - loss: 0.0035 - accuracy: 1.0000 - val_loss: 2.8615 - val_accuracy: 0.6667\n",
            "Epoch 96/300\n",
            "15/15 [==============================] - 0s 19ms/step - loss: 0.0019 - accuracy: 1.0000 - val_loss: 2.9496 - val_accuracy: 0.6667\n",
            "Epoch 97/300\n",
            "15/15 [==============================] - 0s 17ms/step - loss: 0.0434 - accuracy: 0.9556 - val_loss: 2.5964 - val_accuracy: 0.6000\n",
            "Epoch 98/300\n",
            "15/15 [==============================] - 0s 19ms/step - loss: 0.0125 - accuracy: 1.0000 - val_loss: 3.1751 - val_accuracy: 0.6000\n",
            "Epoch 99/300\n",
            "15/15 [==============================] - 0s 19ms/step - loss: 0.0715 - accuracy: 0.9778 - val_loss: 3.3410 - val_accuracy: 0.5333\n",
            "Epoch 100/300\n",
            "15/15 [==============================] - 0s 18ms/step - loss: 0.0167 - accuracy: 1.0000 - val_loss: 3.7692 - val_accuracy: 0.5333\n",
            "Epoch 101/300\n",
            "15/15 [==============================] - 0s 20ms/step - loss: 0.0433 - accuracy: 0.9778 - val_loss: 3.0328 - val_accuracy: 0.6000\n",
            "Epoch 102/300\n",
            "15/15 [==============================] - 0s 18ms/step - loss: 0.0354 - accuracy: 0.9778 - val_loss: 3.1184 - val_accuracy: 0.6667\n",
            "Epoch 103/300\n",
            "15/15 [==============================] - 0s 20ms/step - loss: 0.0012 - accuracy: 1.0000 - val_loss: 3.7207 - val_accuracy: 0.6000\n",
            "Epoch 104/300\n",
            "15/15 [==============================] - 0s 18ms/step - loss: 0.0307 - accuracy: 0.9778 - val_loss: 2.9358 - val_accuracy: 0.6667\n",
            "Epoch 105/300\n",
            "15/15 [==============================] - 0s 19ms/step - loss: 0.0625 - accuracy: 0.9778 - val_loss: 2.4480 - val_accuracy: 0.6667\n",
            "Epoch 106/300\n",
            "15/15 [==============================] - 0s 20ms/step - loss: 0.2006 - accuracy: 0.9333 - val_loss: 2.1039 - val_accuracy: 0.6667\n",
            "Epoch 107/300\n",
            "15/15 [==============================] - 0s 18ms/step - loss: 0.0295 - accuracy: 0.9778 - val_loss: 3.2083 - val_accuracy: 0.5333\n",
            "Epoch 108/300\n",
            "15/15 [==============================] - 0s 18ms/step - loss: 0.0095 - accuracy: 1.0000 - val_loss: 2.8149 - val_accuracy: 0.5333\n",
            "Epoch 109/300\n",
            "15/15 [==============================] - 0s 20ms/step - loss: 0.0397 - accuracy: 0.9778 - val_loss: 2.8096 - val_accuracy: 0.6000\n",
            "Epoch 110/300\n",
            "15/15 [==============================] - 0s 19ms/step - loss: 0.0127 - accuracy: 1.0000 - val_loss: 3.5427 - val_accuracy: 0.5333\n",
            "Epoch 111/300\n",
            "15/15 [==============================] - 0s 21ms/step - loss: 0.0034 - accuracy: 1.0000 - val_loss: 3.3590 - val_accuracy: 0.6000\n",
            "Epoch 112/300\n",
            "15/15 [==============================] - 0s 18ms/step - loss: 0.0037 - accuracy: 1.0000 - val_loss: 3.6480 - val_accuracy: 0.6000\n",
            "Epoch 113/300\n",
            "15/15 [==============================] - 0s 19ms/step - loss: 0.0847 - accuracy: 0.9556 - val_loss: 3.1306 - val_accuracy: 0.6000\n",
            "Epoch 114/300\n",
            "15/15 [==============================] - 0s 19ms/step - loss: 0.0031 - accuracy: 1.0000 - val_loss: 3.3654 - val_accuracy: 0.6000\n",
            "Epoch 115/300\n",
            "15/15 [==============================] - 0s 19ms/step - loss: 0.0036 - accuracy: 1.0000 - val_loss: 3.4592 - val_accuracy: 0.6000\n",
            "Epoch 116/300\n",
            "15/15 [==============================] - 0s 20ms/step - loss: 0.0025 - accuracy: 1.0000 - val_loss: 3.6130 - val_accuracy: 0.6000\n",
            "Epoch 117/300\n",
            "15/15 [==============================] - 0s 21ms/step - loss: 0.0031 - accuracy: 1.0000 - val_loss: 3.6543 - val_accuracy: 0.6000\n",
            "Epoch 118/300\n",
            "15/15 [==============================] - 0s 19ms/step - loss: 0.1829 - accuracy: 0.9111 - val_loss: 2.9033 - val_accuracy: 0.5333\n",
            "Epoch 119/300\n",
            "15/15 [==============================] - 0s 18ms/step - loss: 0.0144 - accuracy: 1.0000 - val_loss: 4.1229 - val_accuracy: 0.5333\n",
            "Epoch 120/300\n",
            "15/15 [==============================] - 0s 18ms/step - loss: 0.0012 - accuracy: 1.0000 - val_loss: 4.2070 - val_accuracy: 0.5333\n",
            "Epoch 121/300\n",
            "15/15 [==============================] - 0s 18ms/step - loss: 8.5713e-04 - accuracy: 1.0000 - val_loss: 4.0342 - val_accuracy: 0.5333\n",
            "Epoch 122/300\n",
            "15/15 [==============================] - 0s 19ms/step - loss: 5.2309e-04 - accuracy: 1.0000 - val_loss: 3.6590 - val_accuracy: 0.5333\n",
            "Epoch 123/300\n",
            "15/15 [==============================] - 0s 18ms/step - loss: 0.0015 - accuracy: 1.0000 - val_loss: 3.6014 - val_accuracy: 0.5333\n",
            "Epoch 124/300\n",
            "15/15 [==============================] - 0s 18ms/step - loss: 2.5809e-04 - accuracy: 1.0000 - val_loss: 3.6171 - val_accuracy: 0.5333\n",
            "Epoch 125/300\n",
            "15/15 [==============================] - 0s 19ms/step - loss: 1.4089e-04 - accuracy: 1.0000 - val_loss: 3.6225 - val_accuracy: 0.5333\n",
            "Epoch 126/300\n",
            "15/15 [==============================] - 0s 21ms/step - loss: 0.0011 - accuracy: 1.0000 - val_loss: 3.6503 - val_accuracy: 0.6000\n",
            "Epoch 127/300\n",
            "15/15 [==============================] - 0s 18ms/step - loss: 0.0461 - accuracy: 0.9778 - val_loss: 7.0037 - val_accuracy: 0.4667\n",
            "Epoch 128/300\n",
            "15/15 [==============================] - 0s 18ms/step - loss: 0.0113 - accuracy: 1.0000 - val_loss: 4.8884 - val_accuracy: 0.5333\n",
            "Epoch 129/300\n",
            "15/15 [==============================] - 0s 18ms/step - loss: 0.0076 - accuracy: 1.0000 - val_loss: 4.5917 - val_accuracy: 0.5333\n",
            "Epoch 130/300\n",
            "15/15 [==============================] - 0s 18ms/step - loss: 8.9097e-04 - accuracy: 1.0000 - val_loss: 4.5544 - val_accuracy: 0.5333\n",
            "Epoch 131/300\n",
            "15/15 [==============================] - 0s 18ms/step - loss: 0.0067 - accuracy: 1.0000 - val_loss: 4.6626 - val_accuracy: 0.5333\n",
            "Epoch 132/300\n",
            "15/15 [==============================] - 0s 19ms/step - loss: 0.1101 - accuracy: 0.9778 - val_loss: 7.4575 - val_accuracy: 0.4667\n",
            "Epoch 133/300\n",
            "15/15 [==============================] - 0s 17ms/step - loss: 0.0272 - accuracy: 0.9778 - val_loss: 4.5374 - val_accuracy: 0.5333\n",
            "Epoch 134/300\n",
            "15/15 [==============================] - 0s 18ms/step - loss: 0.0189 - accuracy: 1.0000 - val_loss: 3.1049 - val_accuracy: 0.7333\n",
            "Epoch 135/300\n",
            "15/15 [==============================] - 0s 20ms/step - loss: 0.0788 - accuracy: 0.9556 - val_loss: 2.7240 - val_accuracy: 0.7333\n",
            "Epoch 136/300\n",
            "15/15 [==============================] - 0s 20ms/step - loss: 0.0018 - accuracy: 1.0000 - val_loss: 2.6602 - val_accuracy: 0.7333\n",
            "Epoch 137/300\n",
            "15/15 [==============================] - 0s 18ms/step - loss: 0.0201 - accuracy: 0.9778 - val_loss: 2.7800 - val_accuracy: 0.7333\n",
            "Epoch 138/300\n",
            "15/15 [==============================] - 0s 18ms/step - loss: 0.0636 - accuracy: 0.9556 - val_loss: 3.5335 - val_accuracy: 0.7333\n",
            "Epoch 139/300\n",
            "15/15 [==============================] - 0s 18ms/step - loss: 0.0029 - accuracy: 1.0000 - val_loss: 3.3533 - val_accuracy: 0.6000\n",
            "Epoch 140/300\n",
            "15/15 [==============================] - 0s 18ms/step - loss: 0.0694 - accuracy: 0.9778 - val_loss: 4.4900 - val_accuracy: 0.5333\n",
            "Epoch 141/300\n",
            "15/15 [==============================] - 0s 18ms/step - loss: 0.0019 - accuracy: 1.0000 - val_loss: 7.5720 - val_accuracy: 0.4667\n",
            "Epoch 142/300\n",
            "15/15 [==============================] - 0s 18ms/step - loss: 0.0199 - accuracy: 1.0000 - val_loss: 4.6723 - val_accuracy: 0.5333\n",
            "Epoch 143/300\n",
            "15/15 [==============================] - 0s 19ms/step - loss: 0.0186 - accuracy: 0.9778 - val_loss: 3.1784 - val_accuracy: 0.6667\n",
            "Epoch 144/300\n",
            "15/15 [==============================] - 0s 19ms/step - loss: 0.0413 - accuracy: 0.9778 - val_loss: 3.9553 - val_accuracy: 0.6000\n",
            "Epoch 145/300\n",
            "15/15 [==============================] - 0s 19ms/step - loss: 0.0131 - accuracy: 1.0000 - val_loss: 4.6108 - val_accuracy: 0.6000\n",
            "Epoch 146/300\n",
            "15/15 [==============================] - 0s 18ms/step - loss: 0.0052 - accuracy: 1.0000 - val_loss: 4.5032 - val_accuracy: 0.6667\n",
            "Epoch 147/300\n",
            "15/15 [==============================] - 0s 21ms/step - loss: 0.0312 - accuracy: 0.9778 - val_loss: 4.1961 - val_accuracy: 0.6000\n",
            "Epoch 148/300\n",
            "15/15 [==============================] - 0s 18ms/step - loss: 0.0143 - accuracy: 1.0000 - val_loss: 4.2047 - val_accuracy: 0.6667\n",
            "Epoch 149/300\n",
            "15/15 [==============================] - 0s 18ms/step - loss: 0.0019 - accuracy: 1.0000 - val_loss: 4.2351 - val_accuracy: 0.6667\n",
            "Epoch 150/300\n",
            "15/15 [==============================] - 0s 18ms/step - loss: 7.1727e-04 - accuracy: 1.0000 - val_loss: 4.2640 - val_accuracy: 0.6667\n",
            "Epoch 151/300\n",
            "15/15 [==============================] - 0s 18ms/step - loss: 0.0150 - accuracy: 1.0000 - val_loss: 4.2876 - val_accuracy: 0.6667\n",
            "Epoch 152/300\n",
            "15/15 [==============================] - 0s 18ms/step - loss: 0.0016 - accuracy: 1.0000 - val_loss: 4.3968 - val_accuracy: 0.6000\n",
            "Epoch 153/300\n",
            "15/15 [==============================] - 0s 18ms/step - loss: 0.0019 - accuracy: 1.0000 - val_loss: 4.4469 - val_accuracy: 0.6000\n",
            "Epoch 154/300\n",
            "15/15 [==============================] - 0s 21ms/step - loss: 0.0079 - accuracy: 1.0000 - val_loss: 4.1716 - val_accuracy: 0.6667\n",
            "Epoch 155/300\n",
            "15/15 [==============================] - 0s 19ms/step - loss: 0.0707 - accuracy: 0.9778 - val_loss: 4.2613 - val_accuracy: 0.6667\n",
            "Epoch 156/300\n",
            "15/15 [==============================] - 0s 21ms/step - loss: 0.0309 - accuracy: 1.0000 - val_loss: 3.6598 - val_accuracy: 0.6667\n",
            "Epoch 157/300\n",
            "15/15 [==============================] - 0s 18ms/step - loss: 0.0675 - accuracy: 0.9778 - val_loss: 1.6853 - val_accuracy: 0.7333\n",
            "Epoch 158/300\n",
            "15/15 [==============================] - 0s 18ms/step - loss: 0.0176 - accuracy: 1.0000 - val_loss: 1.6344 - val_accuracy: 0.8667\n",
            "Epoch 159/300\n",
            "15/15 [==============================] - 0s 18ms/step - loss: 0.0298 - accuracy: 0.9778 - val_loss: 3.1254 - val_accuracy: 0.5333\n",
            "Epoch 160/300\n",
            "15/15 [==============================] - 0s 18ms/step - loss: 0.0523 - accuracy: 0.9556 - val_loss: 3.7419 - val_accuracy: 0.5333\n",
            "Epoch 161/300\n",
            "15/15 [==============================] - 0s 18ms/step - loss: 0.0057 - accuracy: 1.0000 - val_loss: 3.2975 - val_accuracy: 0.5333\n",
            "Epoch 162/300\n",
            "15/15 [==============================] - 0s 18ms/step - loss: 0.0074 - accuracy: 1.0000 - val_loss: 3.0636 - val_accuracy: 0.6667\n",
            "Epoch 163/300\n",
            "15/15 [==============================] - 0s 18ms/step - loss: 0.0304 - accuracy: 0.9778 - val_loss: 1.5515 - val_accuracy: 0.8000\n",
            "Epoch 164/300\n",
            "15/15 [==============================] - 0s 20ms/step - loss: 0.0884 - accuracy: 0.9556 - val_loss: 1.8749 - val_accuracy: 0.8000\n",
            "Epoch 165/300\n",
            "15/15 [==============================] - 0s 18ms/step - loss: 0.0647 - accuracy: 0.9556 - val_loss: 1.2900 - val_accuracy: 0.8000\n",
            "Epoch 166/300\n",
            "15/15 [==============================] - 0s 21ms/step - loss: 0.0449 - accuracy: 0.9556 - val_loss: 0.8484 - val_accuracy: 0.8667\n",
            "Epoch 167/300\n",
            "15/15 [==============================] - 0s 21ms/step - loss: 0.0260 - accuracy: 0.9778 - val_loss: 1.3786 - val_accuracy: 0.7333\n",
            "Epoch 168/300\n",
            "15/15 [==============================] - 0s 18ms/step - loss: 0.0327 - accuracy: 0.9778 - val_loss: 3.3479 - val_accuracy: 0.6000\n",
            "Epoch 169/300\n",
            "15/15 [==============================] - 0s 18ms/step - loss: 0.1014 - accuracy: 0.9778 - val_loss: 7.0097 - val_accuracy: 0.4667\n",
            "Epoch 170/300\n",
            "15/15 [==============================] - 0s 18ms/step - loss: 0.0631 - accuracy: 0.9778 - val_loss: 1.5137 - val_accuracy: 0.8000\n",
            "Epoch 171/300\n",
            "15/15 [==============================] - 0s 18ms/step - loss: 0.0263 - accuracy: 0.9778 - val_loss: 1.0737 - val_accuracy: 0.8000\n",
            "Epoch 172/300\n",
            "15/15 [==============================] - 0s 17ms/step - loss: 0.0121 - accuracy: 1.0000 - val_loss: 0.9357 - val_accuracy: 0.8000\n",
            "Epoch 173/300\n",
            "15/15 [==============================] - 0s 20ms/step - loss: 0.0050 - accuracy: 1.0000 - val_loss: 1.0902 - val_accuracy: 0.8000\n",
            "Epoch 174/300\n",
            "15/15 [==============================] - 0s 18ms/step - loss: 0.2678 - accuracy: 0.9556 - val_loss: 2.2115 - val_accuracy: 0.6000\n",
            "Epoch 175/300\n",
            "15/15 [==============================] - 0s 19ms/step - loss: 0.0496 - accuracy: 0.9778 - val_loss: 2.7278 - val_accuracy: 0.6000\n",
            "Epoch 176/300\n",
            "15/15 [==============================] - 0s 18ms/step - loss: 0.0328 - accuracy: 0.9778 - val_loss: 2.5696 - val_accuracy: 0.6000\n",
            "Epoch 177/300\n",
            "15/15 [==============================] - 0s 18ms/step - loss: 0.0013 - accuracy: 1.0000 - val_loss: 2.6389 - val_accuracy: 0.5333\n",
            "Epoch 178/300\n",
            "15/15 [==============================] - 0s 18ms/step - loss: 0.0789 - accuracy: 0.9778 - val_loss: 2.4686 - val_accuracy: 0.6667\n",
            "Epoch 179/300\n",
            "15/15 [==============================] - 0s 18ms/step - loss: 0.0321 - accuracy: 1.0000 - val_loss: 2.2487 - val_accuracy: 0.6667\n",
            "Epoch 180/300\n",
            "15/15 [==============================] - 0s 18ms/step - loss: 0.0132 - accuracy: 1.0000 - val_loss: 2.3285 - val_accuracy: 0.6667\n",
            "Epoch 181/300\n",
            "15/15 [==============================] - 0s 18ms/step - loss: 0.0013 - accuracy: 1.0000 - val_loss: 2.3932 - val_accuracy: 0.6667\n",
            "Epoch 182/300\n",
            "15/15 [==============================] - 0s 21ms/step - loss: 0.0013 - accuracy: 1.0000 - val_loss: 2.4002 - val_accuracy: 0.6667\n",
            "Epoch 183/300\n",
            "15/15 [==============================] - 0s 19ms/step - loss: 0.0086 - accuracy: 1.0000 - val_loss: 2.2751 - val_accuracy: 0.6667\n",
            "Epoch 184/300\n",
            "15/15 [==============================] - 0s 21ms/step - loss: 0.0013 - accuracy: 1.0000 - val_loss: 2.2433 - val_accuracy: 0.6000\n",
            "Epoch 185/300\n",
            "15/15 [==============================] - 0s 20ms/step - loss: 8.0971e-04 - accuracy: 1.0000 - val_loss: 2.2433 - val_accuracy: 0.6000\n",
            "Epoch 186/300\n",
            "15/15 [==============================] - 0s 20ms/step - loss: 0.0011 - accuracy: 1.0000 - val_loss: 2.2324 - val_accuracy: 0.6000\n",
            "Epoch 187/300\n",
            "15/15 [==============================] - 0s 18ms/step - loss: 0.0090 - accuracy: 1.0000 - val_loss: 2.1810 - val_accuracy: 0.6000\n",
            "Epoch 188/300\n",
            "15/15 [==============================] - 0s 19ms/step - loss: 0.0031 - accuracy: 1.0000 - val_loss: 2.1656 - val_accuracy: 0.6000\n",
            "Epoch 189/300\n",
            "15/15 [==============================] - 0s 21ms/step - loss: 9.3957e-04 - accuracy: 1.0000 - val_loss: 2.1479 - val_accuracy: 0.6000\n",
            "Epoch 190/300\n",
            "15/15 [==============================] - 0s 18ms/step - loss: 0.0229 - accuracy: 0.9778 - val_loss: 2.2080 - val_accuracy: 0.6000\n",
            "Epoch 191/300\n",
            "15/15 [==============================] - 0s 19ms/step - loss: 9.4746e-04 - accuracy: 1.0000 - val_loss: 2.3143 - val_accuracy: 0.6000\n",
            "Epoch 192/300\n",
            "15/15 [==============================] - 0s 18ms/step - loss: 0.0137 - accuracy: 1.0000 - val_loss: 2.3505 - val_accuracy: 0.6000\n",
            "Epoch 193/300\n",
            "15/15 [==============================] - 0s 18ms/step - loss: 3.5970e-04 - accuracy: 1.0000 - val_loss: 2.4410 - val_accuracy: 0.6000\n",
            "Epoch 194/300\n",
            "15/15 [==============================] - 0s 19ms/step - loss: 6.2276e-04 - accuracy: 1.0000 - val_loss: 2.4867 - val_accuracy: 0.6000\n",
            "Epoch 195/300\n",
            "15/15 [==============================] - 0s 20ms/step - loss: 0.0143 - accuracy: 1.0000 - val_loss: 2.6710 - val_accuracy: 0.6000\n",
            "Epoch 196/300\n",
            "15/15 [==============================] - 0s 19ms/step - loss: 0.0037 - accuracy: 1.0000 - val_loss: 2.8844 - val_accuracy: 0.5333\n",
            "Epoch 197/300\n",
            "15/15 [==============================] - 0s 21ms/step - loss: 0.0094 - accuracy: 1.0000 - val_loss: 3.1282 - val_accuracy: 0.5333\n",
            "Epoch 198/300\n",
            "15/15 [==============================] - 0s 17ms/step - loss: 0.0012 - accuracy: 1.0000 - val_loss: 3.2586 - val_accuracy: 0.5333\n",
            "Epoch 199/300\n",
            "15/15 [==============================] - 0s 21ms/step - loss: 0.0014 - accuracy: 1.0000 - val_loss: 3.2533 - val_accuracy: 0.5333\n",
            "Epoch 200/300\n",
            "15/15 [==============================] - 0s 21ms/step - loss: 0.0011 - accuracy: 1.0000 - val_loss: 3.2200 - val_accuracy: 0.5333\n",
            "Epoch 201/300\n",
            "15/15 [==============================] - 0s 21ms/step - loss: 0.0023 - accuracy: 1.0000 - val_loss: 3.0941 - val_accuracy: 0.5333\n",
            "Epoch 202/300\n",
            "15/15 [==============================] - 0s 19ms/step - loss: 4.7263e-04 - accuracy: 1.0000 - val_loss: 3.0534 - val_accuracy: 0.5333\n",
            "Epoch 203/300\n",
            "15/15 [==============================] - 0s 18ms/step - loss: 0.0033 - accuracy: 1.0000 - val_loss: 2.9933 - val_accuracy: 0.5333\n",
            "Epoch 204/300\n",
            "15/15 [==============================] - 0s 19ms/step - loss: 0.0176 - accuracy: 1.0000 - val_loss: 2.7525 - val_accuracy: 0.5333\n",
            "Epoch 205/300\n",
            "15/15 [==============================] - 0s 18ms/step - loss: 8.8062e-05 - accuracy: 1.0000 - val_loss: 2.4984 - val_accuracy: 0.6000\n",
            "Epoch 206/300\n",
            "15/15 [==============================] - 0s 18ms/step - loss: 1.4983e-04 - accuracy: 1.0000 - val_loss: 2.4576 - val_accuracy: 0.6000\n",
            "Epoch 207/300\n",
            "15/15 [==============================] - 0s 21ms/step - loss: 7.3939e-04 - accuracy: 1.0000 - val_loss: 2.4585 - val_accuracy: 0.6000\n",
            "Epoch 208/300\n",
            "15/15 [==============================] - 0s 18ms/step - loss: 3.6827e-04 - accuracy: 1.0000 - val_loss: 2.5221 - val_accuracy: 0.6000\n",
            "Epoch 209/300\n",
            "15/15 [==============================] - 0s 20ms/step - loss: 4.0814e-04 - accuracy: 1.0000 - val_loss: 2.5495 - val_accuracy: 0.6000\n",
            "Epoch 210/300\n",
            "15/15 [==============================] - 0s 20ms/step - loss: 4.7854e-04 - accuracy: 1.0000 - val_loss: 2.5604 - val_accuracy: 0.6000\n",
            "Epoch 211/300\n",
            "15/15 [==============================] - 0s 18ms/step - loss: 0.0472 - accuracy: 0.9778 - val_loss: 2.2592 - val_accuracy: 0.7333\n",
            "Epoch 212/300\n",
            "15/15 [==============================] - 0s 21ms/step - loss: 8.7147e-04 - accuracy: 1.0000 - val_loss: 2.2927 - val_accuracy: 0.7333\n",
            "Epoch 213/300\n",
            "15/15 [==============================] - 0s 19ms/step - loss: 0.0035 - accuracy: 1.0000 - val_loss: 2.4025 - val_accuracy: 0.6000\n",
            "Epoch 214/300\n",
            "15/15 [==============================] - 0s 19ms/step - loss: 0.0052 - accuracy: 1.0000 - val_loss: 2.4463 - val_accuracy: 0.6000\n",
            "Epoch 215/300\n",
            "15/15 [==============================] - 0s 19ms/step - loss: 0.0022 - accuracy: 1.0000 - val_loss: 2.3468 - val_accuracy: 0.6667\n",
            "Epoch 216/300\n",
            "15/15 [==============================] - 0s 21ms/step - loss: 7.7732e-04 - accuracy: 1.0000 - val_loss: 2.3340 - val_accuracy: 0.6667\n",
            "Epoch 217/300\n",
            "15/15 [==============================] - 0s 18ms/step - loss: 7.8669e-04 - accuracy: 1.0000 - val_loss: 2.4025 - val_accuracy: 0.6667\n",
            "Epoch 218/300\n",
            "15/15 [==============================] - 0s 18ms/step - loss: 0.0021 - accuracy: 1.0000 - val_loss: 2.3482 - val_accuracy: 0.7333\n",
            "Epoch 219/300\n",
            "15/15 [==============================] - 0s 19ms/step - loss: 0.0017 - accuracy: 1.0000 - val_loss: 2.2284 - val_accuracy: 0.7333\n",
            "Epoch 220/300\n",
            "15/15 [==============================] - 0s 18ms/step - loss: 0.0011 - accuracy: 1.0000 - val_loss: 2.2992 - val_accuracy: 0.7333\n",
            "Epoch 221/300\n",
            "15/15 [==============================] - 0s 18ms/step - loss: 0.0620 - accuracy: 0.9778 - val_loss: 1.8781 - val_accuracy: 0.6667\n",
            "Epoch 222/300\n",
            "15/15 [==============================] - 0s 20ms/step - loss: 0.0027 - accuracy: 1.0000 - val_loss: 1.7325 - val_accuracy: 0.6667\n",
            "Epoch 223/300\n",
            "15/15 [==============================] - 0s 18ms/step - loss: 0.0018 - accuracy: 1.0000 - val_loss: 1.6800 - val_accuracy: 0.6667\n",
            "Epoch 224/300\n",
            "15/15 [==============================] - 0s 19ms/step - loss: 5.0934e-04 - accuracy: 1.0000 - val_loss: 1.6833 - val_accuracy: 0.6667\n",
            "Epoch 225/300\n",
            "15/15 [==============================] - 0s 18ms/step - loss: 0.0043 - accuracy: 1.0000 - val_loss: 1.5659 - val_accuracy: 0.7333\n",
            "Epoch 226/300\n",
            "15/15 [==============================] - 0s 20ms/step - loss: 0.0014 - accuracy: 1.0000 - val_loss: 1.6713 - val_accuracy: 0.6667\n",
            "Epoch 227/300\n",
            "15/15 [==============================] - 0s 18ms/step - loss: 9.2616e-04 - accuracy: 1.0000 - val_loss: 1.7222 - val_accuracy: 0.6667\n",
            "Epoch 228/300\n",
            "15/15 [==============================] - 0s 20ms/step - loss: 0.0151 - accuracy: 1.0000 - val_loss: 4.2264 - val_accuracy: 0.5333\n",
            "Epoch 229/300\n",
            "15/15 [==============================] - 0s 18ms/step - loss: 1.7809e-04 - accuracy: 1.0000 - val_loss: 5.0575 - val_accuracy: 0.5333\n",
            "Epoch 230/300\n",
            "15/15 [==============================] - 0s 19ms/step - loss: 0.0166 - accuracy: 1.0000 - val_loss: 3.4680 - val_accuracy: 0.5333\n",
            "Epoch 231/300\n",
            "15/15 [==============================] - 0s 18ms/step - loss: 0.0015 - accuracy: 1.0000 - val_loss: 2.7354 - val_accuracy: 0.6000\n",
            "Epoch 232/300\n",
            "15/15 [==============================] - 0s 18ms/step - loss: 0.0024 - accuracy: 1.0000 - val_loss: 2.7621 - val_accuracy: 0.6000\n",
            "Epoch 233/300\n",
            "15/15 [==============================] - 0s 20ms/step - loss: 0.0143 - accuracy: 1.0000 - val_loss: 2.4526 - val_accuracy: 0.6667\n",
            "Epoch 234/300\n",
            "15/15 [==============================] - 0s 19ms/step - loss: 1.4172e-04 - accuracy: 1.0000 - val_loss: 2.4215 - val_accuracy: 0.7333\n",
            "Epoch 235/300\n",
            "15/15 [==============================] - 0s 21ms/step - loss: 0.0015 - accuracy: 1.0000 - val_loss: 2.4112 - val_accuracy: 0.7333\n",
            "Epoch 236/300\n",
            "15/15 [==============================] - 0s 17ms/step - loss: 0.0094 - accuracy: 1.0000 - val_loss: 2.6913 - val_accuracy: 0.7333\n",
            "Epoch 237/300\n",
            "15/15 [==============================] - 0s 18ms/step - loss: 6.2561e-04 - accuracy: 1.0000 - val_loss: 3.0594 - val_accuracy: 0.7333\n",
            "Epoch 238/300\n",
            "15/15 [==============================] - 0s 20ms/step - loss: 0.0022 - accuracy: 1.0000 - val_loss: 3.1658 - val_accuracy: 0.7333\n",
            "Epoch 239/300\n",
            "15/15 [==============================] - 0s 18ms/step - loss: 0.0071 - accuracy: 1.0000 - val_loss: 3.2860 - val_accuracy: 0.6000\n",
            "Epoch 240/300\n",
            "15/15 [==============================] - 0s 19ms/step - loss: 8.9082e-05 - accuracy: 1.0000 - val_loss: 3.3834 - val_accuracy: 0.6000\n",
            "Epoch 241/300\n",
            "15/15 [==============================] - 0s 21ms/step - loss: 1.9444e-05 - accuracy: 1.0000 - val_loss: 3.4157 - val_accuracy: 0.6000\n",
            "Epoch 242/300\n",
            "15/15 [==============================] - 0s 18ms/step - loss: 9.9148e-05 - accuracy: 1.0000 - val_loss: 3.4239 - val_accuracy: 0.6000\n",
            "Epoch 243/300\n",
            "15/15 [==============================] - 0s 18ms/step - loss: 0.0015 - accuracy: 1.0000 - val_loss: 3.3750 - val_accuracy: 0.6000\n",
            "Epoch 244/300\n",
            "15/15 [==============================] - 0s 18ms/step - loss: 0.0021 - accuracy: 1.0000 - val_loss: 3.1953 - val_accuracy: 0.6000\n",
            "Epoch 245/300\n",
            "15/15 [==============================] - 0s 19ms/step - loss: 1.0482e-04 - accuracy: 1.0000 - val_loss: 3.0290 - val_accuracy: 0.6667\n",
            "Epoch 246/300\n",
            "15/15 [==============================] - 0s 19ms/step - loss: 4.5587e-04 - accuracy: 1.0000 - val_loss: 3.0129 - val_accuracy: 0.6667\n",
            "Epoch 247/300\n",
            "15/15 [==============================] - 0s 18ms/step - loss: 8.9200e-05 - accuracy: 1.0000 - val_loss: 3.0159 - val_accuracy: 0.6667\n",
            "Epoch 248/300\n",
            "15/15 [==============================] - 0s 19ms/step - loss: 3.4964e-04 - accuracy: 1.0000 - val_loss: 3.0237 - val_accuracy: 0.6667\n",
            "Epoch 249/300\n",
            "15/15 [==============================] - 0s 18ms/step - loss: 0.0402 - accuracy: 0.9778 - val_loss: 3.9847 - val_accuracy: 0.5333\n",
            "Epoch 250/300\n",
            "15/15 [==============================] - 0s 17ms/step - loss: 0.2222 - accuracy: 0.9556 - val_loss: 2.5819 - val_accuracy: 0.6667\n",
            "Epoch 251/300\n",
            "15/15 [==============================] - 0s 22ms/step - loss: 0.0039 - accuracy: 1.0000 - val_loss: 1.6106 - val_accuracy: 0.8000\n",
            "Epoch 252/300\n",
            "15/15 [==============================] - 0s 20ms/step - loss: 0.0512 - accuracy: 0.9778 - val_loss: 1.8344 - val_accuracy: 0.8000\n",
            "Epoch 253/300\n",
            "15/15 [==============================] - 0s 19ms/step - loss: 0.0151 - accuracy: 1.0000 - val_loss: 2.5261 - val_accuracy: 0.6667\n",
            "Epoch 254/300\n",
            "15/15 [==============================] - 0s 18ms/step - loss: 0.0101 - accuracy: 1.0000 - val_loss: 3.6556 - val_accuracy: 0.6000\n",
            "Epoch 255/300\n",
            "15/15 [==============================] - 0s 19ms/step - loss: 0.0043 - accuracy: 1.0000 - val_loss: 4.1468 - val_accuracy: 0.6000\n",
            "Epoch 256/300\n",
            "15/15 [==============================] - 0s 18ms/step - loss: 0.0213 - accuracy: 0.9778 - val_loss: 3.1052 - val_accuracy: 0.6000\n",
            "Epoch 257/300\n",
            "15/15 [==============================] - 0s 18ms/step - loss: 0.0083 - accuracy: 1.0000 - val_loss: 1.7252 - val_accuracy: 0.8000\n",
            "Epoch 258/300\n",
            "15/15 [==============================] - 0s 18ms/step - loss: 0.0870 - accuracy: 0.9778 - val_loss: 2.2549 - val_accuracy: 0.8000\n",
            "Epoch 259/300\n",
            "15/15 [==============================] - 0s 19ms/step - loss: 0.0056 - accuracy: 1.0000 - val_loss: 2.6684 - val_accuracy: 0.6667\n",
            "Epoch 260/300\n",
            "15/15 [==============================] - 0s 20ms/step - loss: 0.1711 - accuracy: 0.9333 - val_loss: 2.1592 - val_accuracy: 0.8000\n",
            "Epoch 261/300\n",
            "15/15 [==============================] - 0s 19ms/step - loss: 0.0806 - accuracy: 0.9778 - val_loss: 2.2662 - val_accuracy: 0.6667\n",
            "Epoch 262/300\n",
            "15/15 [==============================] - 0s 21ms/step - loss: 0.0183 - accuracy: 1.0000 - val_loss: 2.0072 - val_accuracy: 0.6667\n",
            "Epoch 263/300\n",
            "15/15 [==============================] - 0s 21ms/step - loss: 0.0668 - accuracy: 0.9778 - val_loss: 1.7685 - val_accuracy: 0.7333\n",
            "Epoch 264/300\n",
            "15/15 [==============================] - 0s 18ms/step - loss: 0.0441 - accuracy: 0.9778 - val_loss: 2.7041 - val_accuracy: 0.6667\n",
            "Epoch 265/300\n",
            "15/15 [==============================] - 0s 18ms/step - loss: 0.0119 - accuracy: 1.0000 - val_loss: 3.5722 - val_accuracy: 0.5333\n",
            "Epoch 266/300\n",
            "15/15 [==============================] - 0s 21ms/step - loss: 0.0384 - accuracy: 0.9778 - val_loss: 3.4292 - val_accuracy: 0.6000\n",
            "Epoch 267/300\n",
            "15/15 [==============================] - 0s 22ms/step - loss: 0.0022 - accuracy: 1.0000 - val_loss: 3.0263 - val_accuracy: 0.6000\n",
            "Epoch 268/300\n",
            "15/15 [==============================] - 0s 20ms/step - loss: 0.0138 - accuracy: 1.0000 - val_loss: 3.1691 - val_accuracy: 0.6000\n",
            "Epoch 269/300\n",
            "15/15 [==============================] - 0s 21ms/step - loss: 0.0455 - accuracy: 0.9778 - val_loss: 2.4480 - val_accuracy: 0.7333\n",
            "Epoch 270/300\n",
            "15/15 [==============================] - 0s 19ms/step - loss: 0.0032 - accuracy: 1.0000 - val_loss: 2.4456 - val_accuracy: 0.7333\n",
            "Epoch 271/300\n",
            "15/15 [==============================] - 0s 19ms/step - loss: 0.0195 - accuracy: 1.0000 - val_loss: 2.1124 - val_accuracy: 0.7333\n",
            "Epoch 272/300\n",
            "15/15 [==============================] - 0s 19ms/step - loss: 0.0050 - accuracy: 1.0000 - val_loss: 2.3678 - val_accuracy: 0.6667\n",
            "Epoch 273/300\n",
            "15/15 [==============================] - 0s 21ms/step - loss: 1.1582e-04 - accuracy: 1.0000 - val_loss: 2.4736 - val_accuracy: 0.6000\n",
            "Epoch 274/300\n",
            "15/15 [==============================] - 0s 19ms/step - loss: 0.0031 - accuracy: 1.0000 - val_loss: 2.6615 - val_accuracy: 0.6000\n",
            "Epoch 275/300\n",
            "15/15 [==============================] - 0s 20ms/step - loss: 0.0135 - accuracy: 1.0000 - val_loss: 2.6997 - val_accuracy: 0.6000\n",
            "Epoch 276/300\n",
            "15/15 [==============================] - 0s 18ms/step - loss: 8.8283e-05 - accuracy: 1.0000 - val_loss: 2.6896 - val_accuracy: 0.6667\n",
            "Epoch 277/300\n",
            "15/15 [==============================] - 0s 18ms/step - loss: 6.7363e-05 - accuracy: 1.0000 - val_loss: 2.6881 - val_accuracy: 0.6667\n",
            "Epoch 278/300\n",
            "15/15 [==============================] - 0s 19ms/step - loss: 0.0093 - accuracy: 1.0000 - val_loss: 2.9853 - val_accuracy: 0.6000\n",
            "Epoch 279/300\n",
            "15/15 [==============================] - 0s 19ms/step - loss: 0.0666 - accuracy: 0.9778 - val_loss: 2.8216 - val_accuracy: 0.7333\n",
            "Epoch 280/300\n",
            "15/15 [==============================] - 0s 20ms/step - loss: 0.0336 - accuracy: 0.9778 - val_loss: 3.0345 - val_accuracy: 0.7333\n",
            "Epoch 281/300\n",
            "15/15 [==============================] - 0s 19ms/step - loss: 0.0534 - accuracy: 0.9556 - val_loss: 2.5902 - val_accuracy: 0.7333\n",
            "Epoch 282/300\n",
            "15/15 [==============================] - 0s 19ms/step - loss: 0.0832 - accuracy: 0.9556 - val_loss: 2.0884 - val_accuracy: 0.8000\n",
            "Epoch 283/300\n",
            "15/15 [==============================] - 0s 19ms/step - loss: 0.2766 - accuracy: 0.9778 - val_loss: 2.2131 - val_accuracy: 0.8000\n",
            "Epoch 284/300\n",
            "15/15 [==============================] - 0s 18ms/step - loss: 0.0262 - accuracy: 0.9778 - val_loss: 1.9485 - val_accuracy: 0.7333\n",
            "Epoch 285/300\n",
            "15/15 [==============================] - 0s 19ms/step - loss: 0.0959 - accuracy: 0.9556 - val_loss: 2.0335 - val_accuracy: 0.7333\n",
            "Epoch 286/300\n",
            "15/15 [==============================] - 0s 19ms/step - loss: 0.0018 - accuracy: 1.0000 - val_loss: 2.2687 - val_accuracy: 0.6000\n",
            "Epoch 287/300\n",
            "15/15 [==============================] - 0s 19ms/step - loss: 0.0226 - accuracy: 1.0000 - val_loss: 2.4161 - val_accuracy: 0.6667\n",
            "Epoch 288/300\n",
            "15/15 [==============================] - 0s 19ms/step - loss: 0.0017 - accuracy: 1.0000 - val_loss: 2.4668 - val_accuracy: 0.6667\n",
            "Epoch 289/300\n",
            "15/15 [==============================] - 0s 19ms/step - loss: 4.0644e-04 - accuracy: 1.0000 - val_loss: 2.4842 - val_accuracy: 0.6667\n",
            "Epoch 290/300\n",
            "15/15 [==============================] - 0s 19ms/step - loss: 0.0032 - accuracy: 1.0000 - val_loss: 2.5089 - val_accuracy: 0.6667\n",
            "Epoch 291/300\n",
            "15/15 [==============================] - 0s 19ms/step - loss: 5.4251e-04 - accuracy: 1.0000 - val_loss: 2.5213 - val_accuracy: 0.6667\n",
            "Epoch 292/300\n",
            "15/15 [==============================] - 0s 19ms/step - loss: 0.0069 - accuracy: 1.0000 - val_loss: 2.7636 - val_accuracy: 0.6667\n",
            "Epoch 293/300\n",
            "15/15 [==============================] - 0s 23ms/step - loss: 0.0117 - accuracy: 1.0000 - val_loss: 2.9582 - val_accuracy: 0.6667\n",
            "Epoch 294/300\n",
            "15/15 [==============================] - 0s 21ms/step - loss: 0.0033 - accuracy: 1.0000 - val_loss: 3.1188 - val_accuracy: 0.6667\n",
            "Epoch 295/300\n",
            "15/15 [==============================] - 0s 19ms/step - loss: 3.8708e-04 - accuracy: 1.0000 - val_loss: 3.2232 - val_accuracy: 0.6000\n",
            "Epoch 296/300\n",
            "15/15 [==============================] - 0s 18ms/step - loss: 3.8287e-04 - accuracy: 1.0000 - val_loss: 3.2501 - val_accuracy: 0.6000\n",
            "Epoch 297/300\n",
            "15/15 [==============================] - 0s 22ms/step - loss: 0.0118 - accuracy: 1.0000 - val_loss: 2.1345 - val_accuracy: 0.7333\n",
            "Epoch 298/300\n",
            "15/15 [==============================] - 0s 18ms/step - loss: 0.0013 - accuracy: 1.0000 - val_loss: 1.9451 - val_accuracy: 0.7333\n",
            "Epoch 299/300\n",
            "15/15 [==============================] - 0s 19ms/step - loss: 0.0020 - accuracy: 1.0000 - val_loss: 1.9027 - val_accuracy: 0.7333\n",
            "Epoch 300/300\n",
            "15/15 [==============================] - 0s 18ms/step - loss: 0.0033 - accuracy: 1.0000 - val_loss: 2.2557 - val_accuracy: 0.7333\n"
          ]
        },
        {
          "output_type": "execute_result",
          "data": {
            "text/plain": [
              "<keras.callbacks.History at 0x7f1bf7bcf890>"
            ]
          },
          "metadata": {},
          "execution_count": 15
        }
      ]
    },
    {
      "cell_type": "code",
      "source": [
        "model.evaluate(test_datagenerator)"
      ],
      "metadata": {
        "colab": {
          "base_uri": "https://localhost:8080/"
        },
        "id": "R_ZE1-kjsPxL",
        "outputId": "b5592bdd-c33f-4a7c-8294-66052478244f"
      },
      "execution_count": 16,
      "outputs": [
        {
          "output_type": "stream",
          "name": "stdout",
          "text": [
            "5/5 [==============================] - 0s 7ms/step - loss: 2.2557 - accuracy: 0.7333\n"
          ]
        },
        {
          "output_type": "execute_result",
          "data": {
            "text/plain": [
              "[2.2556633949279785, 0.7333333492279053]"
            ]
          },
          "metadata": {},
          "execution_count": 16
        }
      ]
    },
    {
      "cell_type": "code",
      "source": [
        ""
      ],
      "metadata": {
        "id": "jSqcFk6uxcoE"
      },
      "execution_count": null,
      "outputs": []
    }
  ]
}