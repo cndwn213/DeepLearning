{
  "nbformat": 4,
  "nbformat_minor": 0,
  "metadata": {
    "colab": {
      "name": "02_MNIST_v2.ipynb의 사본",
      "provenance": [],
      "collapsed_sections": []
    },
    "kernelspec": {
      "name": "python3",
      "display_name": "Python 3"
    },
    "language_info": {
      "name": "python"
    },
    "accelerator": "GPU"
  },
  "cells": [
    {
      "cell_type": "markdown",
      "source": [
        "# MNIST 손글씨 - CNN v2\n",
        "- 2 x Conv2D layers\n",
        "- 1 MaxPooling 2D layer\n",
        "- 1 FCN layer\n",
        "- 1 Output layer"
      ],
      "metadata": {
        "id": "QZezQnRzd5kz"
      }
    },
    {
      "cell_type": "code",
      "execution_count": 1,
      "metadata": {
        "id": "o2-h9lFNd1Ci"
      },
      "outputs": [],
      "source": [
        "import numpy as np\n",
        "import pandas as pd\n",
        "import matplotlib.pyplot as plt\n",
        "import tensorflow as tf\n",
        "seed = 2022\n",
        "np.random.seed(seed)\n",
        "tf.random.set_seed(seed)"
      ]
    },
    {
      "cell_type": "code",
      "source": [
        "from tensorflow.keras.datasets import mnist\n",
        "(X_train, y_train), (X_test, y_test) = mnist.load_data()\n",
        "X_train.shape, y_train.shape, X_test.shape, y_test.shape"
      ],
      "metadata": {
        "colab": {
          "base_uri": "https://localhost:8080/"
        },
        "id": "Oyr2VCAIeIfm",
        "outputId": "3e3549ec-bfea-4db5-c8ae-f3e0d2341b14"
      },
      "execution_count": 2,
      "outputs": [
        {
          "output_type": "stream",
          "name": "stdout",
          "text": [
            "Downloading data from https://storage.googleapis.com/tensorflow/tf-keras-datasets/mnist.npz\n",
            "11493376/11490434 [==============================] - 0s 0us/step\n",
            "11501568/11490434 [==============================] - 0s 0us/step\n"
          ]
        },
        {
          "output_type": "execute_result",
          "data": {
            "text/plain": [
              "((60000, 28, 28), (60000,), (10000, 28, 28), (10000,))"
            ]
          },
          "metadata": {},
          "execution_count": 2
        }
      ]
    },
    {
      "cell_type": "code",
      "source": [
        "# X_train, X_test 정규화(0 ~ 1), 이미지 차원 변경: 2차원 --> 1차원\n",
        "X_train = X_train.reshape(-1, 28,28,1) / 255.\n",
        "X_test = X_test.reshape(-1, 28,28,1) / 255.\n",
        "X_train.shape, X_test.shape"
      ],
      "metadata": {
        "colab": {
          "base_uri": "https://localhost:8080/"
        },
        "id": "Y6mIzo9ReRDU",
        "outputId": "4f6a2ff3-213f-4a89-f182-527df584f795"
      },
      "execution_count": 3,
      "outputs": [
        {
          "output_type": "execute_result",
          "data": {
            "text/plain": [
              "((60000, 28, 28, 1), (10000, 28, 28, 1))"
            ]
          },
          "metadata": {},
          "execution_count": 3
        }
      ]
    },
    {
      "cell_type": "code",
      "source": [
        "# Onehot encoding\n",
        "from tensorflow.keras.utils import to_categorical\n",
        "y_train = to_categorical(y_train)\n",
        "y_test = to_categorical(y_test)\n",
        "y_train.shape, y_test.shape"
      ],
      "metadata": {
        "colab": {
          "base_uri": "https://localhost:8080/"
        },
        "id": "Xsf-MzMTeWSV",
        "outputId": "6041c7db-3876-426e-d30e-1736aff4f303"
      },
      "execution_count": 4,
      "outputs": [
        {
          "output_type": "execute_result",
          "data": {
            "text/plain": [
              "((60000, 10), (10000, 10))"
            ]
          },
          "metadata": {},
          "execution_count": 4
        }
      ]
    },
    {
      "cell_type": "code",
      "source": [
        "from tensorflow.keras.models import Sequential, load_model\n",
        "from tensorflow.keras.layers import Dense, Conv2D, Flatten, MaxPooling2D\n",
        "from tensorflow.keras.callbacks import ModelCheckpoint, EarlyStopping"
      ],
      "metadata": {
        "id": "DbgRPC7TeYfl"
      },
      "execution_count": 5,
      "outputs": []
    },
    {
      "cell_type": "code",
      "source": [
        "model = Sequential([\n",
        "    Conv2D(32, kernel_size = (3,3), input_shape = (28, 28, 1), activation = \"relu\"),\n",
        "    Conv2D(64, kernel_size = (3,3), activation = \"relu\"),\n",
        "    MaxPooling2D(),     # MaxPooling2D(pool_size=(2,2))\n",
        "    Flatten(),\n",
        "    Dense(512, activation = \"relu\"),\n",
        "    Dense(10, activation = \"softmax\")\n",
        "])\n",
        "model.summary()"
      ],
      "metadata": {
        "colab": {
          "base_uri": "https://localhost:8080/"
        },
        "id": "PTwwenzVftuW",
        "outputId": "263b5595-b252-4951-c500-fa74720e9d7b"
      },
      "execution_count": 6,
      "outputs": [
        {
          "output_type": "stream",
          "name": "stdout",
          "text": [
            "Model: \"sequential\"\n",
            "_________________________________________________________________\n",
            " Layer (type)                Output Shape              Param #   \n",
            "=================================================================\n",
            " conv2d (Conv2D)             (None, 26, 26, 32)        320       \n",
            "                                                                 \n",
            " conv2d_1 (Conv2D)           (None, 24, 24, 64)        18496     \n",
            "                                                                 \n",
            " max_pooling2d (MaxPooling2D  (None, 12, 12, 64)       0         \n",
            " )                                                               \n",
            "                                                                 \n",
            " flatten (Flatten)           (None, 9216)              0         \n",
            "                                                                 \n",
            " dense (Dense)               (None, 512)               4719104   \n",
            "                                                                 \n",
            " dense_1 (Dense)             (None, 10)                5130      \n",
            "                                                                 \n",
            "=================================================================\n",
            "Total params: 4,743,050\n",
            "Trainable params: 4,743,050\n",
            "Non-trainable params: 0\n",
            "_________________________________________________________________\n"
          ]
        }
      ]
    },
    {
      "cell_type": "code",
      "source": [
        "model.compile(optimizer = \"adam\",loss = \"categorical_crossentropy\", metrics = [\"accuracy\"])"
      ],
      "metadata": {
        "id": "gWjjwGv0iOCB"
      },
      "execution_count": 7,
      "outputs": []
    },
    {
      "cell_type": "code",
      "source": [
        "model_path = \"best-mnist-cnn-v2.h5\"\n",
        "mc = ModelCheckpoint(model_path, save_best_only=True, verbose = 1)\n",
        "es = EarlyStopping(patience = 10)"
      ],
      "metadata": {
        "id": "A6dPD8X1ifbh"
      },
      "execution_count": 9,
      "outputs": []
    },
    {
      "cell_type": "code",
      "source": [
        "hist = model.fit(X_train, y_train, validation_split = 0.2, epochs = 100,\n",
        "                 batch_size = 200, callbacks = [mc, es], verbose = 1)"
      ],
      "metadata": {
        "id": "BmnDIrXxli_R",
        "colab": {
          "base_uri": "https://localhost:8080/"
        },
        "outputId": "b04c4162-1ae0-4fc1-8a9c-f2d7ad359d4a"
      },
      "execution_count": 10,
      "outputs": [
        {
          "output_type": "stream",
          "name": "stdout",
          "text": [
            "Epoch 1/100\n",
            "237/240 [============================>.] - ETA: 0s - loss: 0.1839 - accuracy: 0.9439\n",
            "Epoch 1: val_loss improved from inf to 0.06061, saving model to best-mnist-cnn-v2.h5\n",
            "240/240 [==============================] - 16s 16ms/step - loss: 0.1824 - accuracy: 0.9442 - val_loss: 0.0606 - val_accuracy: 0.9819\n",
            "Epoch 2/100\n",
            "239/240 [============================>.] - ETA: 0s - loss: 0.0441 - accuracy: 0.9863\n",
            "Epoch 2: val_loss improved from 0.06061 to 0.05694, saving model to best-mnist-cnn-v2.h5\n",
            "240/240 [==============================] - 4s 15ms/step - loss: 0.0441 - accuracy: 0.9863 - val_loss: 0.0569 - val_accuracy: 0.9844\n",
            "Epoch 3/100\n",
            "240/240 [==============================] - ETA: 0s - loss: 0.0260 - accuracy: 0.9915\n",
            "Epoch 3: val_loss improved from 0.05694 to 0.03851, saving model to best-mnist-cnn-v2.h5\n",
            "240/240 [==============================] - 4s 15ms/step - loss: 0.0260 - accuracy: 0.9915 - val_loss: 0.0385 - val_accuracy: 0.9893\n",
            "Epoch 4/100\n",
            "238/240 [============================>.] - ETA: 0s - loss: 0.0166 - accuracy: 0.9947\n",
            "Epoch 4: val_loss did not improve from 0.03851\n",
            "240/240 [==============================] - 4s 16ms/step - loss: 0.0166 - accuracy: 0.9947 - val_loss: 0.0419 - val_accuracy: 0.9877\n",
            "Epoch 5/100\n",
            "238/240 [============================>.] - ETA: 0s - loss: 0.0108 - accuracy: 0.9962\n",
            "Epoch 5: val_loss did not improve from 0.03851\n",
            "240/240 [==============================] - 3s 14ms/step - loss: 0.0108 - accuracy: 0.9962 - val_loss: 0.0495 - val_accuracy: 0.9869\n",
            "Epoch 6/100\n",
            "239/240 [============================>.] - ETA: 0s - loss: 0.0096 - accuracy: 0.9966\n",
            "Epoch 6: val_loss did not improve from 0.03851\n",
            "240/240 [==============================] - 3s 14ms/step - loss: 0.0095 - accuracy: 0.9966 - val_loss: 0.0425 - val_accuracy: 0.9883\n",
            "Epoch 7/100\n",
            "238/240 [============================>.] - ETA: 0s - loss: 0.0063 - accuracy: 0.9978\n",
            "Epoch 7: val_loss did not improve from 0.03851\n",
            "240/240 [==============================] - 3s 14ms/step - loss: 0.0062 - accuracy: 0.9979 - val_loss: 0.0443 - val_accuracy: 0.9898\n",
            "Epoch 8/100\n",
            "239/240 [============================>.] - ETA: 0s - loss: 0.0050 - accuracy: 0.9985\n",
            "Epoch 8: val_loss did not improve from 0.03851\n",
            "240/240 [==============================] - 3s 14ms/step - loss: 0.0050 - accuracy: 0.9985 - val_loss: 0.0451 - val_accuracy: 0.9895\n",
            "Epoch 9/100\n",
            "238/240 [============================>.] - ETA: 0s - loss: 0.0059 - accuracy: 0.9980\n",
            "Epoch 9: val_loss did not improve from 0.03851\n",
            "240/240 [==============================] - 3s 14ms/step - loss: 0.0059 - accuracy: 0.9981 - val_loss: 0.0539 - val_accuracy: 0.9870\n",
            "Epoch 10/100\n",
            "237/240 [============================>.] - ETA: 0s - loss: 0.0044 - accuracy: 0.9986\n",
            "Epoch 10: val_loss did not improve from 0.03851\n",
            "240/240 [==============================] - 3s 14ms/step - loss: 0.0044 - accuracy: 0.9986 - val_loss: 0.0484 - val_accuracy: 0.9901\n",
            "Epoch 11/100\n",
            "240/240 [==============================] - ETA: 0s - loss: 0.0042 - accuracy: 0.9985\n",
            "Epoch 11: val_loss did not improve from 0.03851\n",
            "240/240 [==============================] - 3s 14ms/step - loss: 0.0042 - accuracy: 0.9985 - val_loss: 0.0475 - val_accuracy: 0.9904\n",
            "Epoch 12/100\n",
            "239/240 [============================>.] - ETA: 0s - loss: 6.0694e-04 - accuracy: 0.9998\n",
            "Epoch 12: val_loss did not improve from 0.03851\n",
            "240/240 [==============================] - 3s 14ms/step - loss: 6.0469e-04 - accuracy: 0.9998 - val_loss: 0.0531 - val_accuracy: 0.9905\n",
            "Epoch 13/100\n",
            "240/240 [==============================] - ETA: 0s - loss: 0.0047 - accuracy: 0.9986\n",
            "Epoch 13: val_loss did not improve from 0.03851\n",
            "240/240 [==============================] - 3s 14ms/step - loss: 0.0047 - accuracy: 0.9986 - val_loss: 0.0493 - val_accuracy: 0.9900\n"
          ]
        }
      ]
    },
    {
      "cell_type": "code",
      "source": [
        "best_model = load_model(model_path)\n",
        "best_model.evaluate(X_test, y_test)"
      ],
      "metadata": {
        "colab": {
          "base_uri": "https://localhost:8080/"
        },
        "id": "iGc_MoqEl39T",
        "outputId": "b49eac7c-e651-4caa-d9c4-170c1e6d2989"
      },
      "execution_count": 11,
      "outputs": [
        {
          "output_type": "stream",
          "name": "stdout",
          "text": [
            "313/313 [==============================] - 1s 3ms/step - loss: 0.0363 - accuracy: 0.9881\n"
          ]
        },
        {
          "output_type": "execute_result",
          "data": {
            "text/plain": [
              "[0.03634091466665268, 0.988099992275238]"
            ]
          },
          "metadata": {},
          "execution_count": 11
        }
      ]
    },
    {
      "cell_type": "code",
      "source": [
        "y_acc = hist.history[\"accuracy\"]\n",
        "y_vloss = hist.history[\"val_loss\"]\n",
        "xs = np.arange(1, len(y_acc) + 1)"
      ],
      "metadata": {
        "id": "Au5O7DA5ndq4"
      },
      "execution_count": 12,
      "outputs": []
    },
    {
      "cell_type": "code",
      "source": [
        "plt.figure(figsize = (12,8))\n",
        "plt.plot(xs, y_acc, label = \"Accuracy\")\n",
        "plt.plot(xs, y_vloss, label = \"Validation loss\")\n",
        "plt.legend(), plt.grid(), plt.xlabel(\"Epoch\"), plt.title(\"MNIST CNN model v1\")\n",
        "plt.show()"
      ],
      "metadata": {
        "colab": {
          "base_uri": "https://localhost:8080/",
          "height": 513
        },
        "id": "uXXod2K5ndtM",
        "outputId": "df57cf09-260f-4fa5-ce00-90eedadd605f"
      },
      "execution_count": 13,
      "outputs": [
        {
          "output_type": "display_data",
          "data": {
            "text/plain": [
              "<Figure size 864x576 with 1 Axes>"
            ],
            "image/png": "[encoded data removed]"
          },
          "metadata": {
            "needs_background": "light"
          }
        }
      ]
    },
    {
      "cell_type": "code",
      "source": [
        ""
      ],
      "metadata": {
        "id": "22XzlEwuofh3"
      },
      "execution_count": 13,
      "outputs": []
    }
  ]
}