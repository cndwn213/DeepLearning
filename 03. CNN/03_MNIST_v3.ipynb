{
  "nbformat": 4,
  "nbformat_minor": 0,
  "metadata": {
    "colab": {
      "name": "03_MNIST_v3.ipynb",
      "provenance": [],
      "collapsed_sections": []
    },
    "kernelspec": {
      "name": "python3",
      "display_name": "Python 3"
    },
    "language_info": {
      "name": "python"
    },
    "accelerator": "GPU"
  },
  "cells": [
    {
      "cell_type": "markdown",
      "source": [
        "# MNIST 손글씨 - CNN v2\n",
        "- 2 x Conv2D layers\n",
        "- 1 MaxPooling 2D layer\n",
        "- 1 Dropout(0.25) layer\n",
        "- 1 FCN layer\n",
        "- 1 Dropout(0.5) layer\n",
        "- 1 Output layer"
      ],
      "metadata": {
        "id": "QZezQnRzd5kz"
      }
    },
    {
      "cell_type": "code",
      "execution_count": 1,
      "metadata": {
        "id": "o2-h9lFNd1Ci"
      },
      "outputs": [],
      "source": [
        "import numpy as np\n",
        "import pandas as pd\n",
        "import matplotlib.pyplot as plt\n",
        "import tensorflow as tf\n",
        "seed = 2022\n",
        "np.random.seed(seed)\n",
        "tf.random.set_seed(seed)"
      ]
    },
    {
      "cell_type": "code",
      "source": [
        "from tensorflow.keras.datasets import mnist\n",
        "(X_train, y_train), (X_test, y_test) = mnist.load_data()\n",
        "X_train.shape, y_train.shape, X_test.shape, y_test.shape"
      ],
      "metadata": {
        "colab": {
          "base_uri": "https://localhost:8080/"
        },
        "id": "Oyr2VCAIeIfm",
        "outputId": "b2770262-7d6b-4c55-c3a6-7179e4072d17"
      },
      "execution_count": 2,
      "outputs": [
        {
          "output_type": "stream",
          "name": "stdout",
          "text": [
            "Downloading data from https://storage.googleapis.com/tensorflow/tf-keras-datasets/mnist.npz\n",
            "11493376/11490434 [==============================] - 1s 0us/step\n",
            "11501568/11490434 [==============================] - 1s 0us/step\n"
          ]
        },
        {
          "output_type": "execute_result",
          "data": {
            "text/plain": [
              "((60000, 28, 28), (60000,), (10000, 28, 28), (10000,))"
            ]
          },
          "metadata": {},
          "execution_count": 2
        }
      ]
    },
    {
      "cell_type": "code",
      "source": [
        "# X_train, X_test 정규화(0 ~ 1), 이미지 차원 변경: 2차원 --> 1차원\n",
        "X_train = X_train.reshape(-1, 28,28,1) / 255.\n",
        "X_test = X_test.reshape(-1, 28,28,1) / 255.\n",
        "X_train.shape, X_test.shape"
      ],
      "metadata": {
        "colab": {
          "base_uri": "https://localhost:8080/"
        },
        "id": "Y6mIzo9ReRDU",
        "outputId": "6c3c2bc3-cdf1-44b8-ed29-987de61b7514"
      },
      "execution_count": 3,
      "outputs": [
        {
          "output_type": "execute_result",
          "data": {
            "text/plain": [
              "((60000, 28, 28, 1), (10000, 28, 28, 1))"
            ]
          },
          "metadata": {},
          "execution_count": 3
        }
      ]
    },
    {
      "cell_type": "code",
      "source": [
        "# Onehot encoding\n",
        "from tensorflow.keras.utils import to_categorical\n",
        "y_train = to_categorical(y_train)\n",
        "y_test = to_categorical(y_test)\n",
        "y_train.shape, y_test.shape"
      ],
      "metadata": {
        "colab": {
          "base_uri": "https://localhost:8080/"
        },
        "id": "Xsf-MzMTeWSV",
        "outputId": "72508b88-1ce0-45f8-cb16-d2edda3ff0a6"
      },
      "execution_count": 4,
      "outputs": [
        {
          "output_type": "execute_result",
          "data": {
            "text/plain": [
              "((60000, 10), (10000, 10))"
            ]
          },
          "metadata": {},
          "execution_count": 4
        }
      ]
    },
    {
      "cell_type": "code",
      "source": [
        "from tensorflow.keras.models import Sequential, load_model\n",
        "from tensorflow.keras.layers import Dense, Conv2D, Flatten, MaxPooling2D, Dropout\n",
        "from tensorflow.keras.callbacks import ModelCheckpoint, EarlyStopping"
      ],
      "metadata": {
        "id": "DbgRPC7TeYfl"
      },
      "execution_count": 5,
      "outputs": []
    },
    {
      "cell_type": "code",
      "source": [
        "model = Sequential([\n",
        "    Conv2D(32, kernel_size = (3,3), input_shape = (28, 28, 1), activation = \"relu\"),\n",
        "    Conv2D(64, kernel_size = (3,3), activation = \"relu\"),\n",
        "    MaxPooling2D(),     # MaxPooling2D(pool_size=(2,2))\n",
        "    Dropout(0.25),\n",
        "    Flatten(),\n",
        "    Dense(512, activation = \"relu\"),\n",
        "    Dropout(0.5),\n",
        "    Dense(10, activation = \"softmax\")\n",
        "])\n",
        "model.summary()"
      ],
      "metadata": {
        "colab": {
          "base_uri": "https://localhost:8080/"
        },
        "id": "PTwwenzVftuW",
        "outputId": "0d9f1a02-5156-4038-8083-6eceede8bbd2"
      },
      "execution_count": 7,
      "outputs": [
        {
          "output_type": "stream",
          "name": "stdout",
          "text": [
            "Model: \"sequential_1\"\n",
            "_________________________________________________________________\n",
            " Layer (type)                Output Shape              Param #   \n",
            "=================================================================\n",
            " conv2d_2 (Conv2D)           (None, 26, 26, 32)        320       \n",
            "                                                                 \n",
            " conv2d_3 (Conv2D)           (None, 24, 24, 64)        18496     \n",
            "                                                                 \n",
            " max_pooling2d_1 (MaxPooling  (None, 12, 12, 64)       0         \n",
            " 2D)                                                             \n",
            "                                                                 \n",
            " dropout (Dropout)           (None, 12, 12, 64)        0         \n",
            "                                                                 \n",
            " flatten_1 (Flatten)         (None, 9216)              0         \n",
            "                                                                 \n",
            " dense_2 (Dense)             (None, 512)               4719104   \n",
            "                                                                 \n",
            " dropout_1 (Dropout)         (None, 512)               0         \n",
            "                                                                 \n",
            " dense_3 (Dense)             (None, 10)                5130      \n",
            "                                                                 \n",
            "=================================================================\n",
            "Total params: 4,743,050\n",
            "Trainable params: 4,743,050\n",
            "Non-trainable params: 0\n",
            "_________________________________________________________________\n"
          ]
        }
      ]
    },
    {
      "cell_type": "code",
      "source": [
        "model.compile(optimizer = \"adam\",loss = \"categorical_crossentropy\", metrics = [\"accuracy\"])"
      ],
      "metadata": {
        "id": "gWjjwGv0iOCB"
      },
      "execution_count": 8,
      "outputs": []
    },
    {
      "cell_type": "code",
      "source": [
        "model_path = \"best-mnist-cnn-v3.h5\"\n",
        "mc = ModelCheckpoint(model_path, save_best_only=True, verbose = 1)\n",
        "es = EarlyStopping(patience = 10)"
      ],
      "metadata": {
        "id": "A6dPD8X1ifbh"
      },
      "execution_count": 11,
      "outputs": []
    },
    {
      "cell_type": "code",
      "source": [
        "hist = model.fit(X_train, y_train, validation_split = 0.2, epochs = 100,\n",
        "                 batch_size = 200, callbacks = [mc, es], verbose = 1)"
      ],
      "metadata": {
        "id": "BmnDIrXxli_R",
        "colab": {
          "base_uri": "https://localhost:8080/"
        },
        "outputId": "06a954a6-7e7c-4009-889c-319b945bf306"
      },
      "execution_count": 12,
      "outputs": [
        {
          "output_type": "stream",
          "name": "stdout",
          "text": [
            "Epoch 1/100\n",
            "240/240 [==============================] - ETA: 0s - loss: 0.2128 - accuracy: 0.9362\n",
            "Epoch 1: val_loss improved from inf to 0.05721, saving model to best-mnist-cnn-v3.h5\n",
            "240/240 [==============================] - 4s 16ms/step - loss: 0.2128 - accuracy: 0.9362 - val_loss: 0.0572 - val_accuracy: 0.9828\n",
            "Epoch 2/100\n",
            "238/240 [============================>.] - ETA: 0s - loss: 0.0642 - accuracy: 0.9805\n",
            "Epoch 2: val_loss improved from 0.05721 to 0.04760, saving model to best-mnist-cnn-v3.h5\n",
            "240/240 [==============================] - 4s 15ms/step - loss: 0.0641 - accuracy: 0.9805 - val_loss: 0.0476 - val_accuracy: 0.9867\n",
            "Epoch 3/100\n",
            "237/240 [============================>.] - ETA: 0s - loss: 0.0419 - accuracy: 0.9871\n",
            "Epoch 3: val_loss improved from 0.04760 to 0.04146, saving model to best-mnist-cnn-v3.h5\n",
            "240/240 [==============================] - 4s 17ms/step - loss: 0.0420 - accuracy: 0.9870 - val_loss: 0.0415 - val_accuracy: 0.9872\n",
            "Epoch 4/100\n",
            "240/240 [==============================] - ETA: 0s - loss: 0.0328 - accuracy: 0.9888\n",
            "Epoch 4: val_loss improved from 0.04146 to 0.03936, saving model to best-mnist-cnn-v3.h5\n",
            "240/240 [==============================] - 4s 15ms/step - loss: 0.0328 - accuracy: 0.9888 - val_loss: 0.0394 - val_accuracy: 0.9895\n",
            "Epoch 5/100\n",
            "240/240 [==============================] - ETA: 0s - loss: 0.0280 - accuracy: 0.9905\n",
            "Epoch 5: val_loss improved from 0.03936 to 0.03738, saving model to best-mnist-cnn-v3.h5\n",
            "240/240 [==============================] - 4s 15ms/step - loss: 0.0280 - accuracy: 0.9905 - val_loss: 0.0374 - val_accuracy: 0.9899\n",
            "Epoch 6/100\n",
            "238/240 [============================>.] - ETA: 0s - loss: 0.0252 - accuracy: 0.9911\n",
            "Epoch 6: val_loss improved from 0.03738 to 0.03536, saving model to best-mnist-cnn-v3.h5\n",
            "240/240 [==============================] - 4s 15ms/step - loss: 0.0254 - accuracy: 0.9911 - val_loss: 0.0354 - val_accuracy: 0.9900\n",
            "Epoch 7/100\n",
            "237/240 [============================>.] - ETA: 0s - loss: 0.0204 - accuracy: 0.9936\n",
            "Epoch 7: val_loss did not improve from 0.03536\n",
            "240/240 [==============================] - 3s 14ms/step - loss: 0.0205 - accuracy: 0.9936 - val_loss: 0.0377 - val_accuracy: 0.9885\n",
            "Epoch 8/100\n",
            "240/240 [==============================] - ETA: 0s - loss: 0.0174 - accuracy: 0.9941\n",
            "Epoch 8: val_loss did not improve from 0.03536\n",
            "240/240 [==============================] - 3s 15ms/step - loss: 0.0174 - accuracy: 0.9941 - val_loss: 0.0357 - val_accuracy: 0.9908\n",
            "Epoch 9/100\n",
            "238/240 [============================>.] - ETA: 0s - loss: 0.0148 - accuracy: 0.9946\n",
            "Epoch 9: val_loss did not improve from 0.03536\n",
            "240/240 [==============================] - 3s 14ms/step - loss: 0.0148 - accuracy: 0.9946 - val_loss: 0.0385 - val_accuracy: 0.9904\n",
            "Epoch 10/100\n",
            "237/240 [============================>.] - ETA: 0s - loss: 0.0135 - accuracy: 0.9954\n",
            "Epoch 10: val_loss did not improve from 0.03536\n",
            "240/240 [==============================] - 3s 15ms/step - loss: 0.0135 - accuracy: 0.9954 - val_loss: 0.0362 - val_accuracy: 0.9915\n",
            "Epoch 11/100\n",
            "237/240 [============================>.] - ETA: 0s - loss: 0.0120 - accuracy: 0.9958\n",
            "Epoch 11: val_loss did not improve from 0.03536\n",
            "240/240 [==============================] - 3s 14ms/step - loss: 0.0119 - accuracy: 0.9959 - val_loss: 0.0360 - val_accuracy: 0.9909\n",
            "Epoch 12/100\n",
            "239/240 [============================>.] - ETA: 0s - loss: 0.0106 - accuracy: 0.9961\n",
            "Epoch 12: val_loss did not improve from 0.03536\n",
            "240/240 [==============================] - 3s 14ms/step - loss: 0.0107 - accuracy: 0.9961 - val_loss: 0.0381 - val_accuracy: 0.9914\n",
            "Epoch 13/100\n",
            "237/240 [============================>.] - ETA: 0s - loss: 0.0089 - accuracy: 0.9968\n",
            "Epoch 13: val_loss did not improve from 0.03536\n",
            "240/240 [==============================] - 3s 14ms/step - loss: 0.0089 - accuracy: 0.9968 - val_loss: 0.0388 - val_accuracy: 0.9911\n",
            "Epoch 14/100\n",
            "237/240 [============================>.] - ETA: 0s - loss: 0.0103 - accuracy: 0.9966\n",
            "Epoch 14: val_loss improved from 0.03536 to 0.03408, saving model to best-mnist-cnn-v3.h5\n",
            "240/240 [==============================] - 4s 15ms/step - loss: 0.0103 - accuracy: 0.9966 - val_loss: 0.0341 - val_accuracy: 0.9927\n",
            "Epoch 15/100\n",
            "239/240 [============================>.] - ETA: 0s - loss: 0.0100 - accuracy: 0.9965\n",
            "Epoch 15: val_loss did not improve from 0.03408\n",
            "240/240 [==============================] - 3s 14ms/step - loss: 0.0099 - accuracy: 0.9965 - val_loss: 0.0377 - val_accuracy: 0.9911\n",
            "Epoch 16/100\n",
            "239/240 [============================>.] - ETA: 0s - loss: 0.0093 - accuracy: 0.9970\n",
            "Epoch 16: val_loss did not improve from 0.03408\n",
            "240/240 [==============================] - 3s 14ms/step - loss: 0.0093 - accuracy: 0.9970 - val_loss: 0.0374 - val_accuracy: 0.9917\n",
            "Epoch 17/100\n",
            "239/240 [============================>.] - ETA: 0s - loss: 0.0071 - accuracy: 0.9976\n",
            "Epoch 17: val_loss did not improve from 0.03408\n",
            "240/240 [==============================] - 4s 15ms/step - loss: 0.0071 - accuracy: 0.9975 - val_loss: 0.0424 - val_accuracy: 0.9912\n",
            "Epoch 18/100\n",
            "239/240 [============================>.] - ETA: 0s - loss: 0.0077 - accuracy: 0.9975\n",
            "Epoch 18: val_loss did not improve from 0.03408\n",
            "240/240 [==============================] - 3s 14ms/step - loss: 0.0077 - accuracy: 0.9975 - val_loss: 0.0345 - val_accuracy: 0.9923\n",
            "Epoch 19/100\n",
            "238/240 [============================>.] - ETA: 0s - loss: 0.0079 - accuracy: 0.9973\n",
            "Epoch 19: val_loss did not improve from 0.03408\n",
            "240/240 [==============================] - 3s 14ms/step - loss: 0.0079 - accuracy: 0.9973 - val_loss: 0.0423 - val_accuracy: 0.9908\n",
            "Epoch 20/100\n",
            "237/240 [============================>.] - ETA: 0s - loss: 0.0070 - accuracy: 0.9975\n",
            "Epoch 20: val_loss did not improve from 0.03408\n",
            "240/240 [==============================] - 3s 14ms/step - loss: 0.0072 - accuracy: 0.9974 - val_loss: 0.0430 - val_accuracy: 0.9912\n",
            "Epoch 21/100\n",
            "238/240 [============================>.] - ETA: 0s - loss: 0.0054 - accuracy: 0.9980\n",
            "Epoch 21: val_loss did not improve from 0.03408\n",
            "240/240 [==============================] - 3s 14ms/step - loss: 0.0055 - accuracy: 0.9980 - val_loss: 0.0425 - val_accuracy: 0.9912\n",
            "Epoch 22/100\n",
            "237/240 [============================>.] - ETA: 0s - loss: 0.0067 - accuracy: 0.9977\n",
            "Epoch 22: val_loss did not improve from 0.03408\n",
            "240/240 [==============================] - 3s 15ms/step - loss: 0.0067 - accuracy: 0.9977 - val_loss: 0.0373 - val_accuracy: 0.9918\n",
            "Epoch 23/100\n",
            "239/240 [============================>.] - ETA: 0s - loss: 0.0068 - accuracy: 0.9977\n",
            "Epoch 23: val_loss improved from 0.03408 to 0.03348, saving model to best-mnist-cnn-v3.h5\n",
            "240/240 [==============================] - 4s 15ms/step - loss: 0.0068 - accuracy: 0.9977 - val_loss: 0.0335 - val_accuracy: 0.9928\n",
            "Epoch 24/100\n",
            "239/240 [============================>.] - ETA: 0s - loss: 0.0058 - accuracy: 0.9979\n",
            "Epoch 24: val_loss did not improve from 0.03348\n",
            "240/240 [==============================] - 3s 15ms/step - loss: 0.0058 - accuracy: 0.9979 - val_loss: 0.0408 - val_accuracy: 0.9922\n",
            "Epoch 25/100\n",
            "239/240 [============================>.] - ETA: 0s - loss: 0.0051 - accuracy: 0.9983\n",
            "Epoch 25: val_loss did not improve from 0.03348\n",
            "240/240 [==============================] - 3s 15ms/step - loss: 0.0051 - accuracy: 0.9983 - val_loss: 0.0405 - val_accuracy: 0.9921\n",
            "Epoch 26/100\n",
            "237/240 [============================>.] - ETA: 0s - loss: 0.0066 - accuracy: 0.9977\n",
            "Epoch 26: val_loss did not improve from 0.03348\n",
            "240/240 [==============================] - 4s 15ms/step - loss: 0.0066 - accuracy: 0.9977 - val_loss: 0.0385 - val_accuracy: 0.9919\n",
            "Epoch 27/100\n",
            "237/240 [============================>.] - ETA: 0s - loss: 0.0056 - accuracy: 0.9981\n",
            "Epoch 27: val_loss did not improve from 0.03348\n",
            "240/240 [==============================] - 4s 15ms/step - loss: 0.0056 - accuracy: 0.9980 - val_loss: 0.0401 - val_accuracy: 0.9921\n",
            "Epoch 28/100\n",
            "240/240 [==============================] - ETA: 0s - loss: 0.0058 - accuracy: 0.9980\n",
            "Epoch 28: val_loss did not improve from 0.03348\n",
            "240/240 [==============================] - 3s 14ms/step - loss: 0.0058 - accuracy: 0.9980 - val_loss: 0.0363 - val_accuracy: 0.9929\n",
            "Epoch 29/100\n",
            "239/240 [============================>.] - ETA: 0s - loss: 0.0049 - accuracy: 0.9982\n",
            "Epoch 29: val_loss improved from 0.03348 to 0.03309, saving model to best-mnist-cnn-v3.h5\n",
            "240/240 [==============================] - 4s 15ms/step - loss: 0.0049 - accuracy: 0.9982 - val_loss: 0.0331 - val_accuracy: 0.9928\n",
            "Epoch 30/100\n",
            "237/240 [============================>.] - ETA: 0s - loss: 0.0051 - accuracy: 0.9982\n",
            "Epoch 30: val_loss did not improve from 0.03309\n",
            "240/240 [==============================] - 4s 15ms/step - loss: 0.0051 - accuracy: 0.9982 - val_loss: 0.0379 - val_accuracy: 0.9934\n",
            "Epoch 31/100\n",
            "238/240 [============================>.] - ETA: 0s - loss: 0.0047 - accuracy: 0.9985\n",
            "Epoch 31: val_loss did not improve from 0.03309\n",
            "240/240 [==============================] - 4s 15ms/step - loss: 0.0048 - accuracy: 0.9985 - val_loss: 0.0433 - val_accuracy: 0.9919\n",
            "Epoch 32/100\n",
            "237/240 [============================>.] - ETA: 0s - loss: 0.0049 - accuracy: 0.9980\n",
            "Epoch 32: val_loss did not improve from 0.03309\n",
            "240/240 [==============================] - 3s 14ms/step - loss: 0.0048 - accuracy: 0.9980 - val_loss: 0.0463 - val_accuracy: 0.9914\n",
            "Epoch 33/100\n",
            "237/240 [============================>.] - ETA: 0s - loss: 0.0045 - accuracy: 0.9983\n",
            "Epoch 33: val_loss did not improve from 0.03309\n",
            "240/240 [==============================] - 3s 14ms/step - loss: 0.0045 - accuracy: 0.9983 - val_loss: 0.0468 - val_accuracy: 0.9921\n",
            "Epoch 34/100\n",
            "237/240 [============================>.] - ETA: 0s - loss: 0.0041 - accuracy: 0.9986\n",
            "Epoch 34: val_loss did not improve from 0.03309\n",
            "240/240 [==============================] - 4s 15ms/step - loss: 0.0040 - accuracy: 0.9986 - val_loss: 0.0468 - val_accuracy: 0.9920\n",
            "Epoch 35/100\n",
            "238/240 [============================>.] - ETA: 0s - loss: 0.0034 - accuracy: 0.9988\n",
            "Epoch 35: val_loss did not improve from 0.03309\n",
            "240/240 [==============================] - 4s 15ms/step - loss: 0.0033 - accuracy: 0.9988 - val_loss: 0.0462 - val_accuracy: 0.9926\n",
            "Epoch 36/100\n",
            "237/240 [============================>.] - ETA: 0s - loss: 0.0062 - accuracy: 0.9981\n",
            "Epoch 36: val_loss did not improve from 0.03309\n",
            "240/240 [==============================] - 4s 15ms/step - loss: 0.0062 - accuracy: 0.9981 - val_loss: 0.0409 - val_accuracy: 0.9924\n",
            "Epoch 37/100\n",
            "237/240 [============================>.] - ETA: 0s - loss: 0.0044 - accuracy: 0.9987\n",
            "Epoch 37: val_loss did not improve from 0.03309\n",
            "240/240 [==============================] - 4s 15ms/step - loss: 0.0044 - accuracy: 0.9986 - val_loss: 0.0405 - val_accuracy: 0.9924\n",
            "Epoch 38/100\n",
            "237/240 [============================>.] - ETA: 0s - loss: 0.0034 - accuracy: 0.9989\n",
            "Epoch 38: val_loss did not improve from 0.03309\n",
            "240/240 [==============================] - 4s 15ms/step - loss: 0.0034 - accuracy: 0.9990 - val_loss: 0.0461 - val_accuracy: 0.9931\n",
            "Epoch 39/100\n",
            "237/240 [============================>.] - ETA: 0s - loss: 0.0044 - accuracy: 0.9987\n",
            "Epoch 39: val_loss did not improve from 0.03309\n",
            "240/240 [==============================] - 4s 15ms/step - loss: 0.0044 - accuracy: 0.9987 - val_loss: 0.0423 - val_accuracy: 0.9924\n"
          ]
        }
      ]
    },
    {
      "cell_type": "code",
      "source": [
        "best_model = load_model(model_path)\n",
        "best_model.evaluate(X_test, y_test)"
      ],
      "metadata": {
        "colab": {
          "base_uri": "https://localhost:8080/"
        },
        "id": "iGc_MoqEl39T",
        "outputId": "4f7196ce-e7e2-4b9d-a75a-56403a3af1d8"
      },
      "execution_count": 13,
      "outputs": [
        {
          "output_type": "stream",
          "name": "stdout",
          "text": [
            "313/313 [==============================] - 1s 3ms/step - loss: 0.0319 - accuracy: 0.9934\n"
          ]
        },
        {
          "output_type": "execute_result",
          "data": {
            "text/plain": [
              "[0.031946711242198944, 0.993399977684021]"
            ]
          },
          "metadata": {},
          "execution_count": 13
        }
      ]
    },
    {
      "cell_type": "code",
      "source": [
        "y_acc = hist.history[\"accuracy\"]\n",
        "y_vloss = hist.history[\"val_loss\"]\n",
        "xs = np.arange(1, len(y_acc) + 1)"
      ],
      "metadata": {
        "id": "Au5O7DA5ndq4"
      },
      "execution_count": 14,
      "outputs": []
    },
    {
      "cell_type": "code",
      "source": [
        "plt.figure(figsize = (12,8))\n",
        "plt.plot(xs, y_acc, label = \"Accuracy\")\n",
        "plt.plot(xs, y_vloss, label = \"Validation loss\")\n",
        "plt.legend(), plt.grid(), plt.xlabel(\"Epoch\"), plt.title(\"MNIST CNN model v1\")\n",
        "plt.show()"
      ],
      "metadata": {
        "colab": {
          "base_uri": "https://localhost:8080/",
          "height": 513
        },
        "id": "uXXod2K5ndtM",
        "outputId": "d30acf2c-901a-4aa6-f904-8f192a31e117"
      },
      "execution_count": 15,
      "outputs": [
        {
          "output_type": "display_data",
          "data": {
            "text/plain": [
              "<Figure size 864x576 with 1 Axes>"
            ],
            "image/png": "[encoded data removed]"
          },
          "metadata": {
            "needs_background": "light"
          }
        }
      ]
    },
    {
      "cell_type": "code",
      "source": [
        ""
      ],
      "metadata": {
        "id": "22XzlEwuofh3"
      },
      "execution_count": null,
      "outputs": []
    }
  ]
}