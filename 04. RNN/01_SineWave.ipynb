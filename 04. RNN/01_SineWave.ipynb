{
  "nbformat": 4,
  "nbformat_minor": 0,
  "metadata": {
    "colab": {
      "name": "01_SineWave.ipynb",
      "provenance": [],
      "collapsed_sections": []
    },
    "kernelspec": {
      "name": "python3",
      "display_name": "Python 3"
    },
    "language_info": {
      "name": "python"
    }
  },
  "cells": [
    {
      "cell_type": "markdown",
      "source": [
        "# Simple RNN (mant-to-one 문제)\n",
        "- 사인파형 시계열을 입력으로 받아 다음 스텝의 출력을 예측\n",
        "- 3개의 순서열을 입력한 후 출력값이 tqrget과 일치하게 만든다"
      ],
      "metadata": {
        "id": "YhAPxxtCuuCS"
      }
    },
    {
      "cell_type": "code",
      "execution_count": 2,
      "metadata": {
        "id": "JHRHgPDwuqvq"
      },
      "outputs": [],
      "source": [
        "import numpy as np\n",
        "import matplotlib.pyplot as plt"
      ]
    },
    {
      "cell_type": "code",
      "source": [
        "s = np.sin(np.arange(21) * np.pi/4)\n",
        "s"
      ],
      "metadata": {
        "colab": {
          "base_uri": "https://localhost:8080/"
        },
        "id": "vn22G5_Lu_Wm",
        "outputId": "2c95d528-5270-466a-e51f-7130e816d03a"
      },
      "execution_count": 3,
      "outputs": [
        {
          "output_type": "execute_result",
          "data": {
            "text/plain": [
              "array([ 0.00000000e+00,  7.07106781e-01,  1.00000000e+00,  7.07106781e-01,\n",
              "        1.22464680e-16, -7.07106781e-01, -1.00000000e+00, -7.07106781e-01,\n",
              "       -2.44929360e-16,  7.07106781e-01,  1.00000000e+00,  7.07106781e-01,\n",
              "        3.67394040e-16, -7.07106781e-01, -1.00000000e+00, -7.07106781e-01,\n",
              "       -4.89858720e-16,  7.07106781e-01,  1.00000000e+00,  7.07106781e-01,\n",
              "        6.12323400e-16])"
            ]
          },
          "metadata": {},
          "execution_count": 3
        }
      ]
    },
    {
      "cell_type": "code",
      "source": [
        "plt.plot(s, \"ro-\")\n",
        "plt.xlim(-0.5, 20.5), plt.grid()\n",
        "plt.show()"
      ],
      "metadata": {
        "colab": {
          "base_uri": "https://localhost:8080/",
          "height": 265
        },
        "id": "lUWT30H0vG21",
        "outputId": "eff3c910-70cd-4a04-d3ca-9e6a356b8ba8"
      },
      "execution_count": 4,
      "outputs": [
        {
          "output_type": "display_data",
          "data": {
            "text/plain": [
              "<Figure size 432x288 with 1 Axes>"
            ],
            "image/png": "[encoded data removed]"
          },
          "metadata": {
            "needs_background": "light"
          }
        }
      ]
    },
    {
      "cell_type": "markdown",
      "source": [
        "- X_train, y_train 데이터 생성"
      ],
      "metadata": {
        "id": "gT3DQ2V-v9Qs"
      }
    },
    {
      "cell_type": "code",
      "source": [
        "X_train = []\n",
        "y_train = np.empty(len(s) - 3)\n",
        "for i in range(len(s) - 3):\n",
        "    X_train.append(s[i:i+3])\n",
        "    y_train[i] = s[i + 3]\n",
        "y_train"
      ],
      "metadata": {
        "colab": {
          "base_uri": "https://localhost:8080/"
        },
        "id": "uRKFu_PVvt_f",
        "outputId": "a1913d34-74be-4e9d-b3ae-9fddf3632098"
      },
      "execution_count": 10,
      "outputs": [
        {
          "output_type": "execute_result",
          "data": {
            "text/plain": [
              "array([ 7.07106781e-01,  1.22464680e-16, -7.07106781e-01, -1.00000000e+00,\n",
              "       -7.07106781e-01, -2.44929360e-16,  7.07106781e-01,  1.00000000e+00,\n",
              "        7.07106781e-01,  3.67394040e-16, -7.07106781e-01, -1.00000000e+00,\n",
              "       -7.07106781e-01, -4.89858720e-16,  7.07106781e-01,  1.00000000e+00,\n",
              "        7.07106781e-01,  6.12323400e-16])"
            ]
          },
          "metadata": {},
          "execution_count": 10
        }
      ]
    },
    {
      "cell_type": "code",
      "source": [
        "np.array(X_train).shape"
      ],
      "metadata": {
        "colab": {
          "base_uri": "https://localhost:8080/"
        },
        "id": "o-Xh--O-wGYK",
        "outputId": "24cf555a-2383-4b20-ed2f-e112498cf9e8"
      },
      "execution_count": 11,
      "outputs": [
        {
          "output_type": "execute_result",
          "data": {
            "text/plain": [
              "(18, 3)"
            ]
          },
          "metadata": {},
          "execution_count": 11
        }
      ]
    },
    {
      "cell_type": "code",
      "source": [
        "# 입력 데이터 갯수, timesteps, input dim\n",
        "X_train = np.array(X_train).reshape(-1,3,1)\n",
        "X_train.shape"
      ],
      "metadata": {
        "colab": {
          "base_uri": "https://localhost:8080/"
        },
        "id": "LY-_89uZxCtk",
        "outputId": "b80d6e5d-1e97-427f-9c77-bb99baca001f"
      },
      "execution_count": 14,
      "outputs": [
        {
          "output_type": "execute_result",
          "data": {
            "text/plain": [
              "(18, 3, 1)"
            ]
          },
          "metadata": {},
          "execution_count": 14
        }
      ]
    },
    {
      "cell_type": "code",
      "source": [
        "X_train[0], y_train[0]"
      ],
      "metadata": {
        "colab": {
          "base_uri": "https://localhost:8080/"
        },
        "id": "rraLmRK2xrOV",
        "outputId": "a829427b-680e-4b65-a00b-44be8b83314c"
      },
      "execution_count": 18,
      "outputs": [
        {
          "output_type": "execute_result",
          "data": {
            "text/plain": [
              "(array([[0.        ],\n",
              "        [0.70710678],\n",
              "        [1.        ]]), 0.7071067811865476)"
            ]
          },
          "metadata": {},
          "execution_count": 18
        }
      ]
    },
    {
      "cell_type": "code",
      "source": [
        "X_train[1], y_train[1]"
      ],
      "metadata": {
        "colab": {
          "base_uri": "https://localhost:8080/"
        },
        "id": "C-_f4jIIyBmE",
        "outputId": "ee67dd89-0e85-45f3-c03c-df370d33f6c7"
      },
      "execution_count": 19,
      "outputs": [
        {
          "output_type": "execute_result",
          "data": {
            "text/plain": [
              "(array([[0.70710678],\n",
              "        [1.        ],\n",
              "        [0.70710678]]), 1.2246467991473532e-16)"
            ]
          },
          "metadata": {},
          "execution_count": 19
        }
      ]
    },
    {
      "cell_type": "markdown",
      "source": [
        "- 순환 신경망 모델 정의/설정"
      ],
      "metadata": {
        "id": "Ldhq42eLyZXA"
      }
    },
    {
      "cell_type": "code",
      "source": [
        "import tensorflow as tf\n",
        "seed = 2022\n",
        "tf.random.set_seed(seed)\n",
        "np.random.seed(seed)"
      ],
      "metadata": {
        "id": "Dw9lyjVzyY6I"
      },
      "execution_count": 21,
      "outputs": []
    },
    {
      "cell_type": "code",
      "source": [
        "from tensorflow.keras.models import Sequential\n",
        "from tensorflow.keras.layers import SimpleRNN, Dense"
      ],
      "metadata": {
        "id": "i-Xf7nL6yhFS"
      },
      "execution_count": 25,
      "outputs": []
    },
    {
      "cell_type": "code",
      "source": [
        "model = Sequential([\n",
        "        SimpleRNN(10, input_shape = X_train.shape[1:], activation = \"tanh\"),\n",
        "        Dense(1, activation = \"linear\")\n",
        "])\n",
        "model.summary()"
      ],
      "metadata": {
        "colab": {
          "base_uri": "https://localhost:8080/"
        },
        "id": "4JZfz6asyxuY",
        "outputId": "040f0174-d088-41db-ab92-353850b56ad6"
      },
      "execution_count": 28,
      "outputs": [
        {
          "output_type": "stream",
          "name": "stdout",
          "text": [
            "Model: \"sequential_2\"\n",
            "_________________________________________________________________\n",
            " Layer (type)                Output Shape              Param #   \n",
            "=================================================================\n",
            " simple_rnn_2 (SimpleRNN)    (None, 10)                120       \n",
            "                                                                 \n",
            " dense_2 (Dense)             (None, 1)                 11        \n",
            "                                                                 \n",
            "=================================================================\n",
            "Total params: 131\n",
            "Trainable params: 131\n",
            "Non-trainable params: 0\n",
            "_________________________________________________________________\n"
          ]
        }
      ]
    },
    {
      "cell_type": "code",
      "source": [
        "model.compile(\"adam\", loss = \"mse\")"
      ],
      "metadata": {
        "id": "gJkF1NATzkPj"
      },
      "execution_count": 29,
      "outputs": []
    },
    {
      "cell_type": "markdown",
      "source": [
        "- 모델 학습 전"
      ],
      "metadata": {
        "id": "vDl8qmh24hiU"
      }
    },
    {
      "cell_type": "code",
      "source": [
        "plt.plot(np.arange(3,21), y_train, 'ro-', label = \"target\")\n",
        "plt.plot(np.arange(3,21), model.predict(X_train), \"bo-\", label = \"predict\")\n",
        "plt.xlim(-0.5, 20.5), plt.grid(), plt.legend(), plt.title(\"Before model training\")\n",
        "plt.show()"
      ],
      "metadata": {
        "colab": {
          "base_uri": "https://localhost:8080/",
          "height": 281
        },
        "id": "hRh3iW6Z4gy9",
        "outputId": "6c11447c-00a2-4d66-efbc-a29f34390468"
      },
      "execution_count": 32,
      "outputs": [
        {
          "output_type": "display_data",
          "data": {
            "text/plain": [
              "<Figure size 432x288 with 1 Axes>"
            ],
            "image/png": "[encoded data removed]"
          },
          "metadata": {
            "needs_background": "light"
          }
        }
      ]
    },
    {
      "cell_type": "markdown",
      "source": [
        "- 모델 학습"
      ],
      "metadata": {
        "id": "hrxOuBqo5MVO"
      }
    },
    {
      "cell_type": "code",
      "source": [
        "hist = model.fit(X_train, y_train, epochs = 100, verbose = 0)"
      ],
      "metadata": {
        "id": "0-JnaFOM1oL6"
      },
      "execution_count": 33,
      "outputs": []
    },
    {
      "cell_type": "markdown",
      "source": [
        "- 모델 학습 후"
      ],
      "metadata": {
        "id": "iJKGdOoh5dm_"
      }
    },
    {
      "cell_type": "code",
      "source": [
        "plt.plot(np.arange(3,21), y_train, 'ro-', label = \"target\")\n",
        "plt.plot(np.arange(3,21), model.predict(X_train), \"bo-\", label = \"predict\")\n",
        "plt.xlim(-0.5, 20.5), plt.grid(), plt.legend(), plt.title(\"After model training\")\n",
        "plt.show()"
      ],
      "metadata": {
        "colab": {
          "base_uri": "https://localhost:8080/",
          "height": 281
        },
        "id": "LIlDwxuX5clm",
        "outputId": "6de71e49-7093-42d2-aae4-008c43f6211a"
      },
      "execution_count": 35,
      "outputs": [
        {
          "output_type": "display_data",
          "data": {
            "text/plain": [
              "<Figure size 432x288 with 1 Axes>"
            ],
            "image/png": "[encoded data removed]"
          },
          "metadata": {
            "needs_background": "light"
          }
        }
      ]
    },
    {
      "cell_type": "code",
      "source": [
        ""
      ],
      "metadata": {
        "id": "0J2zGuD95g5e"
      },
      "execution_count": null,
      "outputs": []
    }
  ]
}