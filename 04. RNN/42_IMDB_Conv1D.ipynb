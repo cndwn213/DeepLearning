{
  "nbformat": 4,
  "nbformat_minor": 0,
  "metadata": {
    "colab": {
      "name": "42_IMDB_Conv1D.ipynb",
      "provenance": [],
      "collapsed_sections": []
    },
    "kernelspec": {
      "name": "python3",
      "display_name": "Python 3"
    },
    "language_info": {
      "name": "python"
    },
    "accelerator": "GPU"
  },
  "cells": [
    {
      "cell_type": "markdown",
      "source": [
        "# IMDB 영화리뷰 감성분석 - Conv1D\n",
        "- Conv1D + Conv1D + Dense\n",
        "- Conv1D + LSTM + Dense\n",
        "- Conv1D + Dense + Dense"
      ],
      "metadata": {
        "id": "EOLasC_GCPzM"
      }
    },
    {
      "cell_type": "code",
      "execution_count": 1,
      "metadata": {
        "id": "uMBLrOANCNRz"
      },
      "outputs": [],
      "source": [
        "import numpy as np\n",
        "import tensorflow as tf\n",
        "seed = 2022 \n",
        "np.random.seed(seed)\n",
        "tf.random.set_seed(seed)"
      ]
    },
    {
      "cell_type": "code",
      "source": [
        "from tensorflow.keras.datasets import imdb\n",
        "from tensorflow.keras.models import Sequential, load_model\n",
        "from tensorflow.keras.layers import Dense, Embedding, LSTM\n",
        "from tensorflow.keras.layers import Conv1D, MaxPooling1D, GlobalMaxPooling1D, Dropout\n",
        "from tensorflow.keras.callbacks import ModelCheckpoint, EarlyStopping\n",
        "from tensorflow.keras.preprocessing.sequence import pad_sequences\n",
        "from sklearn.model_selection import train_test_split"
      ],
      "metadata": {
        "id": "6W_2xmhMCpnF"
      },
      "execution_count": 2,
      "outputs": []
    },
    {
      "cell_type": "code",
      "source": [
        "num_words = 10000\n",
        "(X_train, y_train), (_, _) = imdb.load_data(num_words = num_words)"
      ],
      "metadata": {
        "colab": {
          "base_uri": "https://localhost:8080/"
        },
        "id": "xKd7V5a-C5m1",
        "outputId": "aedc26ff-2a06-41ea-d703-732d7ceaa850"
      },
      "execution_count": 3,
      "outputs": [
        {
          "output_type": "stream",
          "name": "stdout",
          "text": [
            "Downloading data from https://storage.googleapis.com/tensorflow/tf-keras-datasets/imdb.npz\n",
            "17465344/17464789 [==============================] - 0s 0us/step\n",
            "17473536/17464789 [==============================] - 0s 0us/step\n"
          ]
        }
      ]
    },
    {
      "cell_type": "code",
      "source": [
        "X_train, X_test, y_train, y_test = train_test_split(\n",
        "    X_train, y_train, stratify = y_train, test_size = 0.2, random_state = seed\n",
        ")\n",
        "X_train.shape, X_test.shape, y_train.shape, y_test.shape"
      ],
      "metadata": {
        "colab": {
          "base_uri": "https://localhost:8080/"
        },
        "id": "7LUXLvq2C-0H",
        "outputId": "05b65cd2-8cab-49f7-9cc9-4e9022643591"
      },
      "execution_count": 4,
      "outputs": [
        {
          "output_type": "execute_result",
          "data": {
            "text/plain": [
              "((20000,), (5000,), (20000,), (5000,))"
            ]
          },
          "metadata": {},
          "execution_count": 4
        }
      ]
    },
    {
      "cell_type": "code",
      "source": [
        "max_len = 500\n",
        "X_train = pad_sequences(X_train, maxlen = max_len)\n",
        "X_test = pad_sequences(X_test, maxlen=max_len)"
      ],
      "metadata": {
        "id": "eiNmSiG8DAJa"
      },
      "execution_count": 5,
      "outputs": []
    },
    {
      "cell_type": "markdown",
      "source": [
        "- Case 1) Conv1D X 2"
      ],
      "metadata": {
        "id": "y2DOrD5kDF_w"
      }
    },
    {
      "cell_type": "code",
      "source": [
        "model1 = Sequential([\n",
        "        Embedding(num_words, 100, input_length = max_len),\n",
        "        Dropout(0.5),\n",
        "        Conv1D(64, 7, activation = \"relu\"),\n",
        "        MaxPooling1D(7),\n",
        "        Conv1D(64, 5, activation = \"relu\"),\n",
        "        MaxPooling1D(5),\n",
        "        GlobalMaxPooling1D(),\n",
        "        Dense(1, activation = \"sigmoid\")\n",
        "])\n",
        "model1.summary()"
      ],
      "metadata": {
        "colab": {
          "base_uri": "https://localhost:8080/"
        },
        "id": "Be-HuIIgDDQw",
        "outputId": "d3d33bd4-1014-40de-cad1-3c3b10079411"
      },
      "execution_count": 6,
      "outputs": [
        {
          "output_type": "stream",
          "name": "stdout",
          "text": [
            "Model: \"sequential\"\n",
            "_________________________________________________________________\n",
            " Layer (type)                Output Shape              Param #   \n",
            "=================================================================\n",
            " embedding (Embedding)       (None, 500, 100)          1000000   \n",
            "                                                                 \n",
            " dropout (Dropout)           (None, 500, 100)          0         \n",
            "                                                                 \n",
            " conv1d (Conv1D)             (None, 494, 64)           44864     \n",
            "                                                                 \n",
            " max_pooling1d (MaxPooling1D  (None, 70, 64)           0         \n",
            " )                                                               \n",
            "                                                                 \n",
            " conv1d_1 (Conv1D)           (None, 66, 64)            20544     \n",
            "                                                                 \n",
            " max_pooling1d_1 (MaxPooling  (None, 13, 64)           0         \n",
            " 1D)                                                             \n",
            "                                                                 \n",
            " global_max_pooling1d (Globa  (None, 64)               0         \n",
            " lMaxPooling1D)                                                  \n",
            "                                                                 \n",
            " dense (Dense)               (None, 1)                 65        \n",
            "                                                                 \n",
            "=================================================================\n",
            "Total params: 1,065,473\n",
            "Trainable params: 1,065,473\n",
            "Non-trainable params: 0\n",
            "_________________________________________________________________\n"
          ]
        }
      ]
    },
    {
      "cell_type": "code",
      "source": [
        "model1.compile(\"adam\", \"binary_crossentropy\", [\"accuracy\"])\n",
        "model1_path = \"best-conv1d-conv1d.h5\"\n",
        "mc1 = ModelCheckpoint(model1_path, save_best_only = True)\n",
        "es1 = EarlyStopping(patience = 10)"
      ],
      "metadata": {
        "id": "09hCOgamIDaG"
      },
      "execution_count": 7,
      "outputs": []
    },
    {
      "cell_type": "code",
      "source": [
        "hist = model1.fit(\n",
        "    X_train, y_train, epochs = 30,\n",
        "     batch_size = 64, callbacks = [mc1, es1],\n",
        "      validation_split = 0.2\n",
        ")"
      ],
      "metadata": {
        "colab": {
          "base_uri": "https://localhost:8080/"
        },
        "id": "S-Y465twIn51",
        "outputId": "4e6b003e-0623-46c1-c148-8caf71132eee"
      },
      "execution_count": 17,
      "outputs": [
        {
          "output_type": "stream",
          "name": "stdout",
          "text": [
            "Epoch 1/30\n",
            "250/250 [==============================] - 3s 10ms/step - loss: 0.0193 - accuracy: 0.9932 - val_loss: 0.8548 - val_accuracy: 0.8565\n",
            "Epoch 2/30\n",
            "250/250 [==============================] - 2s 9ms/step - loss: 0.0154 - accuracy: 0.9947 - val_loss: 0.8990 - val_accuracy: 0.8547\n",
            "Epoch 3/30\n",
            "250/250 [==============================] - 2s 9ms/step - loss: 0.0114 - accuracy: 0.9962 - val_loss: 0.9297 - val_accuracy: 0.8495\n",
            "Epoch 4/30\n",
            "250/250 [==============================] - 2s 9ms/step - loss: 0.0179 - accuracy: 0.9936 - val_loss: 0.9938 - val_accuracy: 0.8480\n",
            "Epoch 5/30\n",
            "250/250 [==============================] - 2s 9ms/step - loss: 0.0145 - accuracy: 0.9949 - val_loss: 1.0553 - val_accuracy: 0.8533\n",
            "Epoch 6/30\n",
            "250/250 [==============================] - 2s 9ms/step - loss: 0.0152 - accuracy: 0.9949 - val_loss: 0.9863 - val_accuracy: 0.8500\n",
            "Epoch 7/30\n",
            "250/250 [==============================] - 3s 13ms/step - loss: 0.0115 - accuracy: 0.9957 - val_loss: 0.9804 - val_accuracy: 0.8555\n",
            "Epoch 8/30\n",
            "250/250 [==============================] - 2s 9ms/step - loss: 0.0093 - accuracy: 0.9964 - val_loss: 1.0052 - val_accuracy: 0.8553\n",
            "Epoch 9/30\n",
            "250/250 [==============================] - 2s 9ms/step - loss: 0.0140 - accuracy: 0.9946 - val_loss: 1.0879 - val_accuracy: 0.8528\n",
            "Epoch 10/30\n",
            "250/250 [==============================] - 2s 9ms/step - loss: 0.0094 - accuracy: 0.9970 - val_loss: 1.0558 - val_accuracy: 0.8535\n",
            "Epoch 11/30\n",
            "250/250 [==============================] - 2s 9ms/step - loss: 0.0065 - accuracy: 0.9977 - val_loss: 1.1107 - val_accuracy: 0.8540\n"
          ]
        }
      ]
    },
    {
      "cell_type": "code",
      "source": [
        "best_model1 = load_model(model1_path)\n",
        "best_model1.evaluate(X_test,y_test)"
      ],
      "metadata": {
        "colab": {
          "base_uri": "https://localhost:8080/"
        },
        "id": "8z3Njaf4I_07",
        "outputId": "d0f070db-cec5-495a-9e5e-ce10afc12e75"
      },
      "execution_count": 9,
      "outputs": [
        {
          "output_type": "stream",
          "name": "stdout",
          "text": [
            "157/157 [==============================] - 1s 3ms/step - loss: 0.3092 - accuracy: 0.8688\n"
          ]
        },
        {
          "output_type": "execute_result",
          "data": {
            "text/plain": [
              "[0.3091760575771332, 0.8687999844551086]"
            ]
          },
          "metadata": {},
          "execution_count": 9
        }
      ]
    },
    {
      "cell_type": "markdown",
      "source": [
        "- Case2) Conv1D + LSTM"
      ],
      "metadata": {
        "id": "5rXpIsPOGfSi"
      }
    },
    {
      "cell_type": "code",
      "source": [
        "model2 = Sequential([\n",
        "        Embedding(num_words, 100, input_length = max_len),\n",
        "        Dropout(0.5),\n",
        "        Conv1D(64, 7, activation = \"relu\"),\n",
        "        MaxPooling1D(7),\n",
        "        LSTM(100),\n",
        "        Dense(1,activation=\"sigmoid\")\n",
        "])\n",
        "model2.summary()"
      ],
      "metadata": {
        "colab": {
          "base_uri": "https://localhost:8080/"
        },
        "id": "F45wNeJrEafK",
        "outputId": "c660cedf-17c3-45e7-ef93-bc71d43897b9"
      },
      "execution_count": 19,
      "outputs": [
        {
          "output_type": "stream",
          "name": "stdout",
          "text": [
            "Model: \"sequential_3\"\n",
            "_________________________________________________________________\n",
            " Layer (type)                Output Shape              Param #   \n",
            "=================================================================\n",
            " embedding_3 (Embedding)     (None, 500, 100)          1000000   \n",
            "                                                                 \n",
            " dropout_3 (Dropout)         (None, 500, 100)          0         \n",
            "                                                                 \n",
            " conv1d_4 (Conv1D)           (None, 494, 64)           44864     \n",
            "                                                                 \n",
            " max_pooling1d_4 (MaxPooling  (None, 70, 64)           0         \n",
            " 1D)                                                             \n",
            "                                                                 \n",
            " lstm_1 (LSTM)               (None, 100)               66000     \n",
            "                                                                 \n",
            " dense_4 (Dense)             (None, 1)                 101       \n",
            "                                                                 \n",
            "=================================================================\n",
            "Total params: 1,110,965\n",
            "Trainable params: 1,110,965\n",
            "Non-trainable params: 0\n",
            "_________________________________________________________________\n"
          ]
        }
      ]
    },
    {
      "cell_type": "code",
      "source": [
        "model2.compile(\"adam\", \"binary_crossentropy\", [\"accuracy\"])\n",
        "model2_path = \"best-conv1d-LSTM.h5\"\n",
        "mc2 = ModelCheckpoint(model2_path, save_best_only = True)\n",
        "es2 = EarlyStopping(patience = 10)"
      ],
      "metadata": {
        "id": "IMsT6TrmIBSE"
      },
      "execution_count": 20,
      "outputs": []
    },
    {
      "cell_type": "code",
      "source": [
        "hist = model2.fit(\n",
        "    X_train, y_train, epochs = 30,\n",
        "     batch_size = 64, callbacks = [mc2, es2],\n",
        "      validation_split = 0.2\n",
        ")"
      ],
      "metadata": {
        "colab": {
          "base_uri": "https://localhost:8080/"
        },
        "id": "g9J_vFYIIrNE",
        "outputId": "0735ee30-adf3-4e96-c848-9205c0cdba15"
      },
      "execution_count": 21,
      "outputs": [
        {
          "output_type": "stream",
          "name": "stdout",
          "text": [
            "Epoch 1/30\n",
            "250/250 [==============================] - 6s 15ms/step - loss: 0.4506 - accuracy: 0.7601 - val_loss: 0.3074 - val_accuracy: 0.8825\n",
            "Epoch 2/30\n",
            "250/250 [==============================] - 3s 13ms/step - loss: 0.2185 - accuracy: 0.9168 - val_loss: 0.2780 - val_accuracy: 0.8905\n",
            "Epoch 3/30\n",
            "250/250 [==============================] - 3s 14ms/step - loss: 0.1427 - accuracy: 0.9494 - val_loss: 0.3085 - val_accuracy: 0.8765\n",
            "Epoch 4/30\n",
            "250/250 [==============================] - 4s 15ms/step - loss: 0.1068 - accuracy: 0.9631 - val_loss: 0.3357 - val_accuracy: 0.8780\n",
            "Epoch 5/30\n",
            "250/250 [==============================] - 4s 15ms/step - loss: 0.0834 - accuracy: 0.9722 - val_loss: 0.4232 - val_accuracy: 0.8733\n",
            "Epoch 6/30\n",
            "250/250 [==============================] - 3s 13ms/step - loss: 0.0485 - accuracy: 0.9844 - val_loss: 0.4465 - val_accuracy: 0.8758\n",
            "Epoch 7/30\n",
            "250/250 [==============================] - 3s 13ms/step - loss: 0.0358 - accuracy: 0.9887 - val_loss: 0.4712 - val_accuracy: 0.8717\n",
            "Epoch 8/30\n",
            "250/250 [==============================] - 3s 12ms/step - loss: 0.0333 - accuracy: 0.9887 - val_loss: 0.4936 - val_accuracy: 0.8720\n",
            "Epoch 9/30\n",
            "250/250 [==============================] - 3s 12ms/step - loss: 0.0360 - accuracy: 0.9879 - val_loss: 0.5377 - val_accuracy: 0.8665\n",
            "Epoch 10/30\n",
            "250/250 [==============================] - 3s 12ms/step - loss: 0.0220 - accuracy: 0.9925 - val_loss: 0.5745 - val_accuracy: 0.8742\n",
            "Epoch 11/30\n",
            "250/250 [==============================] - 3s 12ms/step - loss: 0.0228 - accuracy: 0.9929 - val_loss: 0.5762 - val_accuracy: 0.8608\n",
            "Epoch 12/30\n",
            "250/250 [==============================] - 3s 13ms/step - loss: 0.0184 - accuracy: 0.9944 - val_loss: 0.5903 - val_accuracy: 0.8752\n"
          ]
        }
      ]
    },
    {
      "cell_type": "code",
      "source": [
        "best_model2 = load_model(model2_path)\n",
        "best_model2.evaluate(X_test,y_test)"
      ],
      "metadata": {
        "colab": {
          "base_uri": "https://localhost:8080/"
        },
        "id": "-JjoM9WxI88x",
        "outputId": "19ce5b87-4ab0-414a-c57e-786db2c1a226"
      },
      "execution_count": 22,
      "outputs": [
        {
          "output_type": "stream",
          "name": "stdout",
          "text": [
            "157/157 [==============================] - 1s 4ms/step - loss: 0.2843 - accuracy: 0.8814\n"
          ]
        },
        {
          "output_type": "execute_result",
          "data": {
            "text/plain": [
              "[0.2842826545238495, 0.8813999891281128]"
            ]
          },
          "metadata": {},
          "execution_count": 22
        }
      ]
    },
    {
      "cell_type": "markdown",
      "source": [
        "- Case 3) Conv1D + Dense"
      ],
      "metadata": {
        "id": "UypwjXXkHXYm"
      }
    },
    {
      "cell_type": "code",
      "source": [
        "model3 = Sequential([\n",
        "        Embedding(num_words, 100, input_length = max_len),\n",
        "        Dropout(0.5),\n",
        "        Conv1D(64, 7, activation = \"relu\"),\n",
        "        MaxPooling1D(7),\n",
        "        GlobalMaxPooling1D(),\n",
        "        Dense(100, activation = \"relu\"),\n",
        "        Dense(1, activation = \"sigmoid\"),\n",
        "])\n",
        "model3.summary()"
      ],
      "metadata": {
        "colab": {
          "base_uri": "https://localhost:8080/"
        },
        "id": "Fozn1shKG6fy",
        "outputId": "fc39859d-4d71-4008-c4bd-52c9e7cc665b"
      },
      "execution_count": 23,
      "outputs": [
        {
          "output_type": "stream",
          "name": "stdout",
          "text": [
            "Model: \"sequential_4\"\n",
            "_________________________________________________________________\n",
            " Layer (type)                Output Shape              Param #   \n",
            "=================================================================\n",
            " embedding_4 (Embedding)     (None, 500, 100)          1000000   \n",
            "                                                                 \n",
            " dropout_4 (Dropout)         (None, 500, 100)          0         \n",
            "                                                                 \n",
            " conv1d_5 (Conv1D)           (None, 494, 64)           44864     \n",
            "                                                                 \n",
            " max_pooling1d_5 (MaxPooling  (None, 70, 64)           0         \n",
            " 1D)                                                             \n",
            "                                                                 \n",
            " global_max_pooling1d_2 (Glo  (None, 64)               0         \n",
            " balMaxPooling1D)                                                \n",
            "                                                                 \n",
            " dense_5 (Dense)             (None, 100)               6500      \n",
            "                                                                 \n",
            " dense_6 (Dense)             (None, 1)                 101       \n",
            "                                                                 \n",
            "=================================================================\n",
            "Total params: 1,051,465\n",
            "Trainable params: 1,051,465\n",
            "Non-trainable params: 0\n",
            "_________________________________________________________________\n"
          ]
        }
      ]
    },
    {
      "cell_type": "code",
      "source": [
        "model3.compile(\"adam\", \"binary_crossentropy\", [\"accuracy\"])\n",
        "model3_path = \"best-conv1d-Dense.h5\"\n",
        "mc3 = ModelCheckpoint(model3_path, save_best_only = True)\n",
        "es3 = EarlyStopping(patience = 10)"
      ],
      "metadata": {
        "id": "ald7HompHu6l"
      },
      "execution_count": 24,
      "outputs": []
    },
    {
      "cell_type": "code",
      "source": [
        "hist = model3.fit(\n",
        "    X_train, y_train, epochs = 30,\n",
        "     batch_size = 64, callbacks = [mc3, es3],\n",
        "      validation_split = 0.2\n",
        ")"
      ],
      "metadata": {
        "colab": {
          "base_uri": "https://localhost:8080/"
        },
        "id": "1qi6SP6QIQVU",
        "outputId": "decaaa4b-7e27-4513-c09c-4d40c1845983"
      },
      "execution_count": 25,
      "outputs": [
        {
          "output_type": "stream",
          "name": "stdout",
          "text": [
            "Epoch 1/30\n",
            "250/250 [==============================] - 3s 9ms/step - loss: 0.5770 - accuracy: 0.6632 - val_loss: 0.3845 - val_accuracy: 0.8292\n",
            "Epoch 2/30\n",
            "250/250 [==============================] - 2s 9ms/step - loss: 0.3081 - accuracy: 0.8681 - val_loss: 0.2993 - val_accuracy: 0.8742\n",
            "Epoch 3/30\n",
            "250/250 [==============================] - 2s 9ms/step - loss: 0.1963 - accuracy: 0.9258 - val_loss: 0.2901 - val_accuracy: 0.8815\n",
            "Epoch 4/30\n",
            "250/250 [==============================] - 2s 9ms/step - loss: 0.1310 - accuracy: 0.9521 - val_loss: 0.3075 - val_accuracy: 0.8860\n",
            "Epoch 5/30\n",
            "250/250 [==============================] - 2s 9ms/step - loss: 0.0860 - accuracy: 0.9688 - val_loss: 0.3312 - val_accuracy: 0.8878\n",
            "Epoch 6/30\n",
            "250/250 [==============================] - 2s 9ms/step - loss: 0.0504 - accuracy: 0.9846 - val_loss: 0.3791 - val_accuracy: 0.8863\n",
            "Epoch 7/30\n",
            "250/250 [==============================] - 2s 9ms/step - loss: 0.0387 - accuracy: 0.9869 - val_loss: 0.4190 - val_accuracy: 0.8840\n",
            "Epoch 8/30\n",
            "250/250 [==============================] - 2s 10ms/step - loss: 0.0297 - accuracy: 0.9897 - val_loss: 0.4609 - val_accuracy: 0.8838\n",
            "Epoch 9/30\n",
            "250/250 [==============================] - 2s 9ms/step - loss: 0.0258 - accuracy: 0.9912 - val_loss: 0.5242 - val_accuracy: 0.8802\n",
            "Epoch 10/30\n",
            "250/250 [==============================] - 2s 8ms/step - loss: 0.0214 - accuracy: 0.9931 - val_loss: 0.5564 - val_accuracy: 0.8805\n",
            "Epoch 11/30\n",
            "250/250 [==============================] - 2s 9ms/step - loss: 0.0202 - accuracy: 0.9932 - val_loss: 0.5413 - val_accuracy: 0.8802\n",
            "Epoch 12/30\n",
            "250/250 [==============================] - 2s 9ms/step - loss: 0.0206 - accuracy: 0.9923 - val_loss: 0.5872 - val_accuracy: 0.8790\n",
            "Epoch 13/30\n",
            "250/250 [==============================] - 2s 8ms/step - loss: 0.0214 - accuracy: 0.9923 - val_loss: 0.6150 - val_accuracy: 0.8800\n"
          ]
        }
      ]
    },
    {
      "cell_type": "code",
      "source": [
        "best_model3 = load_model(model3_path)\n",
        "best_model3.evaluate(X_test,y_test)"
      ],
      "metadata": {
        "colab": {
          "base_uri": "https://localhost:8080/"
        },
        "id": "4hT85MytIGYZ",
        "outputId": "60fe6199-4b36-4ba3-94ac-9c58a4add146"
      },
      "execution_count": 26,
      "outputs": [
        {
          "output_type": "stream",
          "name": "stdout",
          "text": [
            "157/157 [==============================] - 1s 3ms/step - loss: 0.2966 - accuracy: 0.8760\n"
          ]
        },
        {
          "output_type": "execute_result",
          "data": {
            "text/plain": [
              "[0.29662615060806274, 0.8759999871253967]"
            ]
          },
          "metadata": {},
          "execution_count": 26
        }
      ]
    },
    {
      "cell_type": "code",
      "source": [
        ""
      ],
      "metadata": {
        "id": "GdtjuqVzJdjA"
      },
      "execution_count": 15,
      "outputs": []
    }
  ]
}