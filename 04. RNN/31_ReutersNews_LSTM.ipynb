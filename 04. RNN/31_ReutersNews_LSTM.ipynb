{
  "nbformat": 4,
  "nbformat_minor": 0,
  "metadata": {
    "colab": {
      "name": "31_ReutersNews_LSTM.ipynb",
      "provenance": [],
      "collapsed_sections": []
    },
    "kernelspec": {
      "name": "python3",
      "display_name": "Python 3"
    },
    "language_info": {
      "name": "python"
    }
  },
  "cells": [
    {
      "cell_type": "markdown",
      "source": [
        "### 로이터 뉴스 분류하기 - LSTM"
      ],
      "metadata": {
        "id": "xSQXJbTpLoNl"
      }
    },
    {
      "cell_type": "markdown",
      "source": [
        "- 데이터 탐색"
      ],
      "metadata": {
        "id": "SJILXzyhLsm4"
      }
    },
    {
      "cell_type": "code",
      "execution_count": 1,
      "metadata": {
        "id": "0jBcAJskLlZI"
      },
      "outputs": [],
      "source": [
        "import numpy as np\n",
        "import seaborn as sns\n",
        "import matplotlib.pyplot as plt\n",
        "from tensorflow.keras.datasets import reuters"
      ]
    },
    {
      "cell_type": "code",
      "source": [
        "(X_train, y_train), (X_test, y_test) = reuters.load_data()\n",
        "len(X_train), len(X_test)"
      ],
      "metadata": {
        "colab": {
          "base_uri": "https://localhost:8080/"
        },
        "id": "Sx1kYbhqLzv8",
        "outputId": "ad7e3b32-8a77-44f2-ee3a-713fe4abeb8d"
      },
      "execution_count": 2,
      "outputs": [
        {
          "output_type": "stream",
          "name": "stdout",
          "text": [
            "Downloading data from https://storage.googleapis.com/tensorflow/tf-keras-datasets/reuters.npz\n",
            "2113536/2110848 [==============================] - 0s 0us/step\n",
            "2121728/2110848 [==============================] - 0s 0us/step\n"
          ]
        },
        {
          "output_type": "execute_result",
          "data": {
            "text/plain": [
              "(8982, 2246)"
            ]
          },
          "metadata": {},
          "execution_count": 2
        }
      ]
    },
    {
      "cell_type": "code",
      "source": [
        "# 카테고리 갯수\n",
        "max(y_train) + 1"
      ],
      "metadata": {
        "colab": {
          "base_uri": "https://localhost:8080/"
        },
        "id": "g9QaHVK_MApw",
        "outputId": "18450ba1-d21b-4310-d921-1a67e2b106bc"
      },
      "execution_count": 3,
      "outputs": [
        {
          "output_type": "execute_result",
          "data": {
            "text/plain": [
              "46"
            ]
          },
          "metadata": {},
          "execution_count": 3
        }
      ]
    },
    {
      "cell_type": "code",
      "source": [
        "# 첫번째 뉴스\n",
        "print(X_train[0])"
      ],
      "metadata": {
        "colab": {
          "base_uri": "https://localhost:8080/"
        },
        "id": "ycDy60lYMESb",
        "outputId": "813b1c3e-8717-4f12-b565-ed3dda256067"
      },
      "execution_count": 4,
      "outputs": [
        {
          "output_type": "stream",
          "name": "stdout",
          "text": [
            "[1, 27595, 28842, 8, 43, 10, 447, 5, 25, 207, 270, 5, 3095, 111, 16, 369, 186, 90, 67, 7, 89, 5, 19, 102, 6, 19, 124, 15, 90, 67, 84, 22, 482, 26, 7, 48, 4, 49, 8, 864, 39, 209, 154, 6, 151, 6, 83, 11, 15, 22, 155, 11, 15, 7, 48, 9, 4579, 1005, 504, 6, 258, 6, 272, 11, 15, 22, 134, 44, 11, 15, 16, 8, 197, 1245, 90, 67, 52, 29, 209, 30, 32, 132, 6, 109, 15, 17, 12]\n"
          ]
        }
      ]
    },
    {
      "cell_type": "code",
      "source": [
        "type(reuters.get_word_index())"
      ],
      "metadata": {
        "colab": {
          "base_uri": "https://localhost:8080/"
        },
        "id": "D7UIU_NwMGtz",
        "outputId": "15cbb76c-af88-4cdc-e43a-f6dc5f02f61b"
      },
      "execution_count": 5,
      "outputs": [
        {
          "output_type": "stream",
          "name": "stdout",
          "text": [
            "Downloading data from https://storage.googleapis.com/tensorflow/tf-keras-datasets/reuters_word_index.json\n",
            "557056/550378 [==============================] - 0s 0us/step\n",
            "565248/550378 [==============================] - 0s 0us/step\n"
          ]
        },
        {
          "output_type": "execute_result",
          "data": {
            "text/plain": [
              "dict"
            ]
          },
          "metadata": {},
          "execution_count": 5
        }
      ]
    },
    {
      "cell_type": "code",
      "source": [
        "reuters.get_word_index()[\"the\"]"
      ],
      "metadata": {
        "colab": {
          "base_uri": "https://localhost:8080/"
        },
        "id": "8y0LmlUYMPTz",
        "outputId": "1668ce08-40ef-44bf-a188-949e08a03996"
      },
      "execution_count": 6,
      "outputs": [
        {
          "output_type": "execute_result",
          "data": {
            "text/plain": [
              "1"
            ]
          },
          "metadata": {},
          "execution_count": 6
        }
      ]
    },
    {
      "cell_type": "code",
      "source": [
        "index_word = {}\n",
        "for key, value in reuters.get_word_index().items():\n",
        "    index_word[value] = key\n",
        "len(index_word)"
      ],
      "metadata": {
        "colab": {
          "base_uri": "https://localhost:8080/"
        },
        "id": "tes2inTjMsaV",
        "outputId": "327b5840-3f10-42d1-e9d6-8b3a3f974a30"
      },
      "execution_count": 7,
      "outputs": [
        {
          "output_type": "execute_result",
          "data": {
            "text/plain": [
              "30979"
            ]
          },
          "metadata": {},
          "execution_count": 7
        }
      ]
    },
    {
      "cell_type": "code",
      "source": [
        "# 첫번째 기사 복원\n",
        "\" \".join(index_word[index] for index in X_train[0])"
      ],
      "metadata": {
        "colab": {
          "base_uri": "https://localhost:8080/",
          "height": 72
        },
        "id": "a-5FsfrSM1SB",
        "outputId": "c38f5fef-0b41-4cad-f393-655fb9e54b0c"
      },
      "execution_count": 8,
      "outputs": [
        {
          "output_type": "execute_result",
          "data": {
            "text/plain": [
              "'the wattie nondiscriminatory mln loss for plc said at only ended said commonwealth could 1 traders now april 0 a after said from 1985 and from foreign 000 april 0 prices its account year a but in this mln home an states earlier and rise and revs vs 000 its 16 vs 000 a but 3 psbr oils several and shareholders and dividend vs 000 its all 4 vs 000 1 mln agreed largely april 0 are 2 states will billion total and against 000 pct dlrs'"
            ],
            "application/vnd.google.colaboratory.intrinsic+json": {
              "type": "string"
            }
          },
          "metadata": {},
          "execution_count": 8
        }
      ]
    },
    {
      "cell_type": "code",
      "source": [
        "# 뉴스 기사의 최대길이, 평균길이\n",
        "max(len(s) for s in X_train), sum(map(len, X_train)) / len(X_train)"
      ],
      "metadata": {
        "colab": {
          "base_uri": "https://localhost:8080/"
        },
        "id": "ha3PvbUhNEDD",
        "outputId": "e78d3873-7c83-4cc3-d344-edfd59f2221c"
      },
      "execution_count": 9,
      "outputs": [
        {
          "output_type": "execute_result",
          "data": {
            "text/plain": [
              "(2376, 145.5398574927633)"
            ]
          },
          "metadata": {},
          "execution_count": 9
        }
      ]
    },
    {
      "cell_type": "code",
      "source": [
        "# 뉴스 기사 단어수의 분포\n",
        "plt.hist([len(s) for s in X_train], bins=50)\n",
        "plt.xlabel(\"length of samples\")\n",
        "plt.ylabel(\"number of samples\")\n",
        "plt.show()"
      ],
      "metadata": {
        "colab": {
          "base_uri": "https://localhost:8080/",
          "height": 279
        },
        "id": "j6m0YVmvNlGq",
        "outputId": "f75f2935-8068-4b4a-a972-e98ed7ec65fc"
      },
      "execution_count": 10,
      "outputs": [
        {
          "output_type": "display_data",
          "data": {
            "text/plain": [
              "<Figure size 432x288 with 1 Axes>"
            ],
            "image/png": "[encoded data removed]"
          },
          "metadata": {
            "needs_background": "light"
          }
        }
      ]
    },
    {
      "cell_type": "code",
      "source": [
        "# 뉴스 그룹의 분포\n",
        "import warnings\n",
        "warnings.filterwarnings('ignore')\n",
        "plt.figure(figsize=(12,5))\n",
        "sns.countplot(y_train);"
      ],
      "metadata": {
        "colab": {
          "base_uri": "https://localhost:8080/",
          "height": 320
        },
        "id": "zhj05rvjOHAZ",
        "outputId": "abcb16a2-d3f1-4760-9703-ef9c693bae97"
      },
      "execution_count": 11,
      "outputs": [
        {
          "output_type": "display_data",
          "data": {
            "text/plain": [
              "<Figure size 864x360 with 1 Axes>"
            ],
            "image/png": "[encoded data removed]"
          },
          "metadata": {
            "needs_background": "light"
          }
        }
      ]
    },
    {
      "cell_type": "markdown",
      "source": [
        "#### LSTM으로 로이터 뉴스 분류\n",
        "- 문장길이:100단어까지 (최대:2376)\n",
        "- 단어 : 빈도수 기준 1000단어 (총 단어수 : 30979)\n"
      ],
      "metadata": {
        "id": "azrOV1k3QcsN"
      }
    },
    {
      "cell_type": "code",
      "source": [
        "max_words = 1000\n",
        "max_len = 100"
      ],
      "metadata": {
        "id": "ZsYxhyuROcjD"
      },
      "execution_count": 12,
      "outputs": []
    },
    {
      "cell_type": "code",
      "source": [
        "(X_train, y_train), (X_test, y_test) = reuters.load_data(\n",
        "    num_words = max_words, test_split = 0.2\n",
        ")"
      ],
      "metadata": {
        "id": "_qdIf3aaQnrr"
      },
      "execution_count": 13,
      "outputs": []
    },
    {
      "cell_type": "code",
      "source": [
        "import numpy as np\n",
        "import tensorflow as tf\n",
        "seed = 2022\n",
        "tf.random.set_seed(seed)\n",
        "np.random.seed(seed)"
      ],
      "metadata": {
        "id": "5jCiqAmEQ9ws"
      },
      "execution_count": 14,
      "outputs": []
    },
    {
      "cell_type": "code",
      "source": [
        "from tensorflow.keras.models import Sequential, load_model\n",
        "from tensorflow.keras.layers import Dense, Embedding, LSTM\n",
        "from tensorflow.keras.callbacks import ModelCheckpoint, EarlyStopping\n",
        "from tensorflow.keras.preprocessing.sequence import pad_sequences\n",
        "from tensorflow.keras.utils import to_categorical"
      ],
      "metadata": {
        "id": "sBEYHs-BRV38"
      },
      "execution_count": 15,
      "outputs": []
    },
    {
      "cell_type": "code",
      "source": [
        "X_train = pad_sequences(X_train, maxlen = max_len)\n",
        "X_test = pad_sequences(X_test, maxlen = max_len)\n",
        "y_train = to_categorical(y_train)\n",
        "y_test = to_categorical(y_test)\n",
        "X_train.shape, X_test.shape, y_train.shape, y_test.shape"
      ],
      "metadata": {
        "colab": {
          "base_uri": "https://localhost:8080/"
        },
        "id": "m1l97xYvRbtk",
        "outputId": "182a4c90-9f41-4184-e833-d128dd7a526f"
      },
      "execution_count": 16,
      "outputs": [
        {
          "output_type": "execute_result",
          "data": {
            "text/plain": [
              "((8982, 100), (2246, 100), (8982, 46), (2246, 46))"
            ]
          },
          "metadata": {},
          "execution_count": 16
        }
      ]
    },
    {
      "cell_type": "markdown",
      "source": [
        "- 모델 정의/설정/학습"
      ],
      "metadata": {
        "id": "whMVa--gSQHj"
      }
    },
    {
      "cell_type": "code",
      "source": [
        "model = Sequential([\n",
        "        Embedding(max_words, 64, input_length = max_len),\n",
        "        LSTM(100),\n",
        "        Dense(46, activation = \"softmax\")\n",
        "])\n",
        "model.summary()"
      ],
      "metadata": {
        "colab": {
          "base_uri": "https://localhost:8080/"
        },
        "id": "32fIxdoWR6Yo",
        "outputId": "df0214c7-20ed-405f-f434-4ff11424b940"
      },
      "execution_count": 17,
      "outputs": [
        {
          "output_type": "stream",
          "name": "stdout",
          "text": [
            "Model: \"sequential\"\n",
            "_________________________________________________________________\n",
            " Layer (type)                Output Shape              Param #   \n",
            "=================================================================\n",
            " embedding (Embedding)       (None, 100, 64)           64000     \n",
            "                                                                 \n",
            " lstm (LSTM)                 (None, 100)               66000     \n",
            "                                                                 \n",
            " dense (Dense)               (None, 46)                4646      \n",
            "                                                                 \n",
            "=================================================================\n",
            "Total params: 134,646\n",
            "Trainable params: 134,646\n",
            "Non-trainable params: 0\n",
            "_________________________________________________________________\n"
          ]
        }
      ]
    },
    {
      "cell_type": "code",
      "source": [
        "model.compile(\"adam\", \"categorical_crossentropy\", [\"accuracy\"])"
      ],
      "metadata": {
        "id": "JMm92z23Svbr"
      },
      "execution_count": 18,
      "outputs": []
    },
    {
      "cell_type": "code",
      "source": [
        "model_path = \"best-reuters-LSTM.h5\"\n",
        "mc = ModelCheckpoint(model_path, save_best_only = True, verbose = 1)\n",
        "es = EarlyStopping(patience = 10)"
      ],
      "metadata": {
        "id": "IQ3FxMCUS7O-"
      },
      "execution_count": 19,
      "outputs": []
    },
    {
      "cell_type": "code",
      "source": [
        "hist = model.fit(X_train, y_train, epochs = 100,\n",
        "          callbacks = [mc, es], batch_size = 200,\n",
        "          validation_split = 0.2)"
      ],
      "metadata": {
        "colab": {
          "base_uri": "https://localhost:8080/"
        },
        "id": "JM0PKw0TTCTm",
        "outputId": "02f5d58a-7dd3-48a9-f049-7571d5d84314"
      },
      "execution_count": 22,
      "outputs": [
        {
          "output_type": "stream",
          "name": "stdout",
          "text": [
            "Epoch 1/100\n",
            "36/36 [==============================] - ETA: 0s - loss: 0.7686 - accuracy: 0.8074\n",
            "Epoch 1: val_loss did not improve from 1.31792\n",
            "36/36 [==============================] - 1s 24ms/step - loss: 0.7686 - accuracy: 0.8074 - val_loss: 1.3297 - val_accuracy: 0.6945\n",
            "Epoch 2/100\n",
            "36/36 [==============================] - ETA: 0s - loss: 0.7516 - accuracy: 0.8086\n",
            "Epoch 2: val_loss did not improve from 1.31792\n",
            "36/36 [==============================] - 1s 16ms/step - loss: 0.7516 - accuracy: 0.8086 - val_loss: 1.3748 - val_accuracy: 0.6828\n",
            "Epoch 3/100\n",
            "34/36 [===========================>..] - ETA: 0s - loss: 0.7480 - accuracy: 0.8118\n",
            "Epoch 3: val_loss did not improve from 1.31792\n",
            "36/36 [==============================] - 0s 12ms/step - loss: 0.7491 - accuracy: 0.8106 - val_loss: 1.3925 - val_accuracy: 0.6906\n",
            "Epoch 4/100\n",
            "31/36 [========================>.....] - ETA: 0s - loss: 0.7103 - accuracy: 0.8240\n",
            "Epoch 4: val_loss did not improve from 1.31792\n",
            "36/36 [==============================] - 0s 11ms/step - loss: 0.7139 - accuracy: 0.8230 - val_loss: 1.3912 - val_accuracy: 0.6912\n",
            "Epoch 5/100\n",
            "36/36 [==============================] - ETA: 0s - loss: 0.7033 - accuracy: 0.8260\n",
            "Epoch 5: val_loss did not improve from 1.31792\n",
            "36/36 [==============================] - 0s 12ms/step - loss: 0.7033 - accuracy: 0.8260 - val_loss: 1.3891 - val_accuracy: 0.6895\n",
            "Epoch 6/100\n",
            "36/36 [==============================] - ETA: 0s - loss: 0.6866 - accuracy: 0.8267\n",
            "Epoch 6: val_loss did not improve from 1.31792\n",
            "36/36 [==============================] - 1s 19ms/step - loss: 0.6866 - accuracy: 0.8267 - val_loss: 1.3985 - val_accuracy: 0.7001\n",
            "Epoch 7/100\n",
            "33/36 [==========================>...] - ETA: 0s - loss: 0.6871 - accuracy: 0.8214\n",
            "Epoch 7: val_loss did not improve from 1.31792\n",
            "36/36 [==============================] - 1s 17ms/step - loss: 0.6877 - accuracy: 0.8232 - val_loss: 1.3933 - val_accuracy: 0.7012\n",
            "Epoch 8/100\n",
            "36/36 [==============================] - ETA: 0s - loss: 0.6641 - accuracy: 0.8347\n",
            "Epoch 8: val_loss did not improve from 1.31792\n",
            "36/36 [==============================] - 0s 11ms/step - loss: 0.6641 - accuracy: 0.8347 - val_loss: 1.4219 - val_accuracy: 0.7017\n",
            "Epoch 9/100\n",
            "36/36 [==============================] - ETA: 0s - loss: 0.6593 - accuracy: 0.8335\n",
            "Epoch 9: val_loss did not improve from 1.31792\n",
            "36/36 [==============================] - 0s 11ms/step - loss: 0.6593 - accuracy: 0.8335 - val_loss: 1.4410 - val_accuracy: 0.6945\n",
            "Epoch 10/100\n",
            "35/36 [============================>.] - ETA: 0s - loss: 0.6447 - accuracy: 0.8381\n",
            "Epoch 10: val_loss did not improve from 1.31792\n",
            "36/36 [==============================] - 0s 12ms/step - loss: 0.6449 - accuracy: 0.8384 - val_loss: 1.4461 - val_accuracy: 0.6900\n",
            "Epoch 11/100\n",
            "34/36 [===========================>..] - ETA: 0s - loss: 0.6295 - accuracy: 0.8429\n",
            "Epoch 11: val_loss did not improve from 1.31792\n",
            "36/36 [==============================] - 0s 12ms/step - loss: 0.6305 - accuracy: 0.8424 - val_loss: 1.4225 - val_accuracy: 0.6995\n"
          ]
        }
      ]
    },
    {
      "cell_type": "code",
      "source": [
        "best_model = load_model(model_path)\n",
        "best_model.evaluate(X_test, y_test)"
      ],
      "metadata": {
        "colab": {
          "base_uri": "https://localhost:8080/"
        },
        "id": "156bQrwJTOZt",
        "outputId": "8d8dd84e-aec5-4b59-a7f8-e65e582195f8"
      },
      "execution_count": 23,
      "outputs": [
        {
          "output_type": "stream",
          "name": "stdout",
          "text": [
            "71/71 [==============================] - 1s 5ms/step - loss: 1.3331 - accuracy: 0.6776\n"
          ]
        },
        {
          "output_type": "execute_result",
          "data": {
            "text/plain": [
              "[1.333093285560608, 0.6776491403579712]"
            ]
          },
          "metadata": {},
          "execution_count": 23
        }
      ]
    },
    {
      "cell_type": "code",
      "source": [
        "import matplotlib.pyplot as plt\n",
        "\n",
        "y_acc = hist.history[\"accuracy\"]\n",
        "y_loss = hist.history[\"loss\"]\n",
        "xs = np.arange(1, len(y_acc) + 1)\n",
        "\n",
        "plt.figure(figsize=(12,8))\n",
        "plt.plot(xs, y_acc, label=\"Accuracy\")\n",
        "plt.plot(xs, y_loss, label=\"Loss\")\n",
        "plt.grid(),plt.legend(),plt.title(\"Accuracy/Loss\")\n",
        "plt.ylim(0,1.2)\n",
        "plt.show()"
      ],
      "metadata": {
        "colab": {
          "base_uri": "https://localhost:8080/",
          "height": 499
        },
        "id": "hytgorMQUtvF",
        "outputId": "bafe79dd-c71a-4db0-ac8d-479bc3e6d9d5"
      },
      "execution_count": 24,
      "outputs": [
        {
          "output_type": "display_data",
          "data": {
            "text/plain": [
              "<Figure size 864x576 with 1 Axes>"
            ],
            "image/png": "[encoded data removed]"
          },
          "metadata": {
            "needs_background": "light"
          }
        }
      ]
    },
    {
      "cell_type": "code",
      "source": [
        ""
      ],
      "metadata": {
        "id": "BN5cRUflU3b8"
      },
      "execution_count": null,
      "outputs": []
    }
  ]
}